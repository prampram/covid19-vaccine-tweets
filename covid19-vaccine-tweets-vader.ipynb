{
 "cells": [
  {
   "cell_type": "code",
   "execution_count": 1,
   "id": "crude-printer",
   "metadata": {
    "_cell_guid": "b1076dfc-b9ad-4769-8c92-a6c4dae69d19",
    "_uuid": "8f2839f25d086af736a60e9eeb907d3b93b6e0e5",
    "execution": {
     "iopub.execute_input": "2021-07-02T22:02:17.016193Z",
     "iopub.status.busy": "2021-07-02T22:02:17.015581Z",
     "iopub.status.idle": "2021-07-02T22:02:17.032077Z",
     "shell.execute_reply": "2021-07-02T22:02:17.032820Z",
     "shell.execute_reply.started": "2021-07-02T21:19:46.204310Z"
    },
    "papermill": {
     "duration": 0.080544,
     "end_time": "2021-07-02T22:02:17.033214",
     "exception": false,
     "start_time": "2021-07-02T22:02:16.952670",
     "status": "completed"
    },
    "tags": []
   },
   "outputs": [
    {
     "name": "stdout",
     "output_type": "stream",
     "text": [
      "/kaggle/input/all-covid19-vaccines-tweets/vaccination_all_tweets.csv\n"
     ]
    }
   ],
   "source": [
    "# This Python 3 environment comes with many helpful analytics libraries installed\n",
    "# It is defined by the kaggle/python Docker image: https://github.com/kaggle/docker-python\n",
    "# For example, here's several helpful packages to load\n",
    "\n",
    "import numpy as np # linear algebra\n",
    "import pandas as pd # data processing, CSV file I/O (e.g. pd.read_csv)\n",
    "\n",
    "# Input data files are available in the read-only \"../input/\" directory\n",
    "# For example, running this (by clicking run or pressing Shift+Enter) will list all files under the input directory\n",
    "\n",
    "import os\n",
    "for dirname, _, filenames in os.walk('/kaggle/input'):\n",
    "    for filename in filenames:\n",
    "        print(os.path.join(dirname, filename))\n",
    "\n",
    "# You can write up to 20GB to the current directory (/kaggle/working/) that gets preserved as output when you create a version using \"Save & Run All\" \n",
    "# You can also write temporary files to /kaggle/temp/, but they won't be saved outside of the current session"
   ]
  },
  {
   "cell_type": "code",
   "execution_count": 2,
   "id": "informational-sherman",
   "metadata": {
    "execution": {
     "iopub.execute_input": "2021-07-02T22:02:17.143676Z",
     "iopub.status.busy": "2021-07-02T22:02:17.142970Z",
     "iopub.status.idle": "2021-07-02T22:02:25.949184Z",
     "shell.execute_reply": "2021-07-02T22:02:25.947949Z",
     "shell.execute_reply.started": "2021-07-02T21:19:46.227477Z"
    },
    "papermill": {
     "duration": 8.86329,
     "end_time": "2021-07-02T22:02:25.949398",
     "exception": false,
     "start_time": "2021-07-02T22:02:17.086108",
     "status": "completed"
    },
    "tags": []
   },
   "outputs": [
    {
     "name": "stdout",
     "output_type": "stream",
     "text": [
      "Collecting twython\r\n",
      "  Downloading twython-3.8.2-py3-none-any.whl (33 kB)\r\n",
      "Requirement already satisfied: requests>=2.1.0 in /opt/conda/lib/python3.7/site-packages (from twython) (2.25.1)\r\n",
      "Requirement already satisfied: requests-oauthlib>=0.4.0 in /opt/conda/lib/python3.7/site-packages (from twython) (1.3.0)\r\n",
      "Requirement already satisfied: idna<3,>=2.5 in /opt/conda/lib/python3.7/site-packages (from requests>=2.1.0->twython) (2.10)\r\n",
      "Requirement already satisfied: urllib3<1.27,>=1.21.1 in /opt/conda/lib/python3.7/site-packages (from requests>=2.1.0->twython) (1.26.4)\r\n",
      "Requirement already satisfied: chardet<5,>=3.0.2 in /opt/conda/lib/python3.7/site-packages (from requests>=2.1.0->twython) (4.0.0)\r\n",
      "Requirement already satisfied: certifi>=2017.4.17 in /opt/conda/lib/python3.7/site-packages (from requests>=2.1.0->twython) (2020.12.5)\r\n",
      "Requirement already satisfied: oauthlib>=3.0.0 in /opt/conda/lib/python3.7/site-packages (from requests-oauthlib>=0.4.0->twython) (3.0.1)\r\n",
      "Installing collected packages: twython\r\n",
      "Successfully installed twython-3.8.2\r\n"
     ]
    }
   ],
   "source": [
    "!pip install twython"
   ]
  },
  {
   "cell_type": "code",
   "execution_count": 3,
   "id": "sought-lightning",
   "metadata": {
    "execution": {
     "iopub.execute_input": "2021-07-02T22:02:26.068849Z",
     "iopub.status.busy": "2021-07-02T22:02:26.067916Z",
     "iopub.status.idle": "2021-07-02T22:02:27.936795Z",
     "shell.execute_reply": "2021-07-02T22:02:27.937249Z",
     "shell.execute_reply.started": "2021-07-02T21:19:55.380253Z"
    },
    "papermill": {
     "duration": 1.930312,
     "end_time": "2021-07-02T22:02:27.937468",
     "exception": false,
     "start_time": "2021-07-02T22:02:26.007156",
     "status": "completed"
    },
    "tags": []
   },
   "outputs": [
    {
     "name": "stdout",
     "output_type": "stream",
     "text": [
      "[nltk_data] Downloading package vader_lexicon to\n",
      "[nltk_data]     /usr/share/nltk_data...\n",
      "[nltk_data]   Package vader_lexicon is already up-to-date!\n"
     ]
    }
   ],
   "source": [
    "import nltk\n",
    "nltk.download('vader_lexicon')\n",
    "from nltk.sentiment.vader import SentimentIntensityAnalyzer as SIA"
   ]
  },
  {
   "cell_type": "code",
   "execution_count": 4,
   "id": "virtual-baker",
   "metadata": {
    "execution": {
     "iopub.execute_input": "2021-07-02T22:02:28.051061Z",
     "iopub.status.busy": "2021-07-02T22:02:28.050414Z",
     "iopub.status.idle": "2021-07-02T22:02:30.100130Z",
     "shell.execute_reply": "2021-07-02T22:02:30.099587Z",
     "shell.execute_reply.started": "2021-07-02T21:19:57.388698Z"
    },
    "papermill": {
     "duration": 2.109863,
     "end_time": "2021-07-02T22:02:30.100295",
     "exception": false,
     "start_time": "2021-07-02T22:02:27.990432",
     "status": "completed"
    },
    "tags": []
   },
   "outputs": [
    {
     "data": {
      "text/html": [
       "<div>\n",
       "<style scoped>\n",
       "    .dataframe tbody tr th:only-of-type {\n",
       "        vertical-align: middle;\n",
       "    }\n",
       "\n",
       "    .dataframe tbody tr th {\n",
       "        vertical-align: top;\n",
       "    }\n",
       "\n",
       "    .dataframe thead th {\n",
       "        text-align: right;\n",
       "    }\n",
       "</style>\n",
       "<table border=\"1\" class=\"dataframe\">\n",
       "  <thead>\n",
       "    <tr style=\"text-align: right;\">\n",
       "      <th></th>\n",
       "      <th>id</th>\n",
       "      <th>user_name</th>\n",
       "      <th>user_location</th>\n",
       "      <th>user_description</th>\n",
       "      <th>user_created</th>\n",
       "      <th>user_followers</th>\n",
       "      <th>user_friends</th>\n",
       "      <th>user_favourites</th>\n",
       "      <th>user_verified</th>\n",
       "      <th>date</th>\n",
       "      <th>text</th>\n",
       "      <th>hashtags</th>\n",
       "      <th>source</th>\n",
       "      <th>retweets</th>\n",
       "      <th>favorites</th>\n",
       "      <th>is_retweet</th>\n",
       "    </tr>\n",
       "  </thead>\n",
       "  <tbody>\n",
       "    <tr>\n",
       "      <th>0</th>\n",
       "      <td>1340539111971516416</td>\n",
       "      <td>Rachel Roh</td>\n",
       "      <td>La Crescenta-Montrose, CA</td>\n",
       "      <td>Aggregator of Asian American news; scanning di...</td>\n",
       "      <td>2009-04-08 17:52:46</td>\n",
       "      <td>405</td>\n",
       "      <td>1692</td>\n",
       "      <td>3247</td>\n",
       "      <td>False</td>\n",
       "      <td>2020-12-20 06:06:44</td>\n",
       "      <td>Same folks said daikon paste could treat a cyt...</td>\n",
       "      <td>['PfizerBioNTech']</td>\n",
       "      <td>Twitter for Android</td>\n",
       "      <td>0</td>\n",
       "      <td>0</td>\n",
       "      <td>False</td>\n",
       "    </tr>\n",
       "    <tr>\n",
       "      <th>1</th>\n",
       "      <td>1338158543359250433</td>\n",
       "      <td>Albert Fong</td>\n",
       "      <td>San Francisco, CA</td>\n",
       "      <td>Marketing dude, tech geek, heavy metal &amp; '80s ...</td>\n",
       "      <td>2009-09-21 15:27:30</td>\n",
       "      <td>834</td>\n",
       "      <td>666</td>\n",
       "      <td>178</td>\n",
       "      <td>False</td>\n",
       "      <td>2020-12-13 16:27:13</td>\n",
       "      <td>While the world has been on the wrong side of ...</td>\n",
       "      <td>NaN</td>\n",
       "      <td>Twitter Web App</td>\n",
       "      <td>1</td>\n",
       "      <td>1</td>\n",
       "      <td>False</td>\n",
       "    </tr>\n",
       "    <tr>\n",
       "      <th>2</th>\n",
       "      <td>1337858199140118533</td>\n",
       "      <td>eli🇱🇹🇪🇺👌</td>\n",
       "      <td>Your Bed</td>\n",
       "      <td>heil, hydra 🖐☺</td>\n",
       "      <td>2020-06-25 23:30:28</td>\n",
       "      <td>10</td>\n",
       "      <td>88</td>\n",
       "      <td>155</td>\n",
       "      <td>False</td>\n",
       "      <td>2020-12-12 20:33:45</td>\n",
       "      <td>#coronavirus #SputnikV #AstraZeneca #PfizerBio...</td>\n",
       "      <td>['coronavirus', 'SputnikV', 'AstraZeneca', 'Pf...</td>\n",
       "      <td>Twitter for Android</td>\n",
       "      <td>0</td>\n",
       "      <td>0</td>\n",
       "      <td>False</td>\n",
       "    </tr>\n",
       "    <tr>\n",
       "      <th>3</th>\n",
       "      <td>1337855739918835717</td>\n",
       "      <td>Charles Adler</td>\n",
       "      <td>Vancouver, BC - Canada</td>\n",
       "      <td>Hosting \"CharlesAdlerTonight\" Global News Radi...</td>\n",
       "      <td>2008-09-10 11:28:53</td>\n",
       "      <td>49165</td>\n",
       "      <td>3933</td>\n",
       "      <td>21853</td>\n",
       "      <td>True</td>\n",
       "      <td>2020-12-12 20:23:59</td>\n",
       "      <td>Facts are immutable, Senator, even when you're...</td>\n",
       "      <td>NaN</td>\n",
       "      <td>Twitter Web App</td>\n",
       "      <td>446</td>\n",
       "      <td>2129</td>\n",
       "      <td>False</td>\n",
       "    </tr>\n",
       "    <tr>\n",
       "      <th>4</th>\n",
       "      <td>1337854064604966912</td>\n",
       "      <td>Citizen News Channel</td>\n",
       "      <td>NaN</td>\n",
       "      <td>Citizen News Channel bringing you an alternati...</td>\n",
       "      <td>2020-04-23 17:58:42</td>\n",
       "      <td>152</td>\n",
       "      <td>580</td>\n",
       "      <td>1473</td>\n",
       "      <td>False</td>\n",
       "      <td>2020-12-12 20:17:19</td>\n",
       "      <td>Explain to me again why we need a vaccine @Bor...</td>\n",
       "      <td>['whereareallthesickpeople', 'PfizerBioNTech']</td>\n",
       "      <td>Twitter for iPhone</td>\n",
       "      <td>0</td>\n",
       "      <td>0</td>\n",
       "      <td>False</td>\n",
       "    </tr>\n",
       "  </tbody>\n",
       "</table>\n",
       "</div>"
      ],
      "text/plain": [
       "                    id             user_name              user_location  \\\n",
       "0  1340539111971516416            Rachel Roh  La Crescenta-Montrose, CA   \n",
       "1  1338158543359250433           Albert Fong          San Francisco, CA   \n",
       "2  1337858199140118533              eli🇱🇹🇪🇺👌                   Your Bed   \n",
       "3  1337855739918835717         Charles Adler     Vancouver, BC - Canada   \n",
       "4  1337854064604966912  Citizen News Channel                        NaN   \n",
       "\n",
       "                                    user_description         user_created  \\\n",
       "0  Aggregator of Asian American news; scanning di...  2009-04-08 17:52:46   \n",
       "1  Marketing dude, tech geek, heavy metal & '80s ...  2009-09-21 15:27:30   \n",
       "2                                     heil, hydra 🖐☺  2020-06-25 23:30:28   \n",
       "3  Hosting \"CharlesAdlerTonight\" Global News Radi...  2008-09-10 11:28:53   \n",
       "4  Citizen News Channel bringing you an alternati...  2020-04-23 17:58:42   \n",
       "\n",
       "   user_followers  user_friends  user_favourites  user_verified  \\\n",
       "0             405          1692             3247          False   \n",
       "1             834           666              178          False   \n",
       "2              10            88              155          False   \n",
       "3           49165          3933            21853           True   \n",
       "4             152           580             1473          False   \n",
       "\n",
       "                  date                                               text  \\\n",
       "0  2020-12-20 06:06:44  Same folks said daikon paste could treat a cyt...   \n",
       "1  2020-12-13 16:27:13  While the world has been on the wrong side of ...   \n",
       "2  2020-12-12 20:33:45  #coronavirus #SputnikV #AstraZeneca #PfizerBio...   \n",
       "3  2020-12-12 20:23:59  Facts are immutable, Senator, even when you're...   \n",
       "4  2020-12-12 20:17:19  Explain to me again why we need a vaccine @Bor...   \n",
       "\n",
       "                                            hashtags               source  \\\n",
       "0                                 ['PfizerBioNTech']  Twitter for Android   \n",
       "1                                                NaN      Twitter Web App   \n",
       "2  ['coronavirus', 'SputnikV', 'AstraZeneca', 'Pf...  Twitter for Android   \n",
       "3                                                NaN      Twitter Web App   \n",
       "4     ['whereareallthesickpeople', 'PfizerBioNTech']   Twitter for iPhone   \n",
       "\n",
       "   retweets  favorites  is_retweet  \n",
       "0         0          0       False  \n",
       "1         1          1       False  \n",
       "2         0          0       False  \n",
       "3       446       2129       False  \n",
       "4         0          0       False  "
      ]
     },
     "execution_count": 4,
     "metadata": {},
     "output_type": "execute_result"
    }
   ],
   "source": [
    "data=pd.read_csv('../input/all-covid19-vaccines-tweets/vaccination_all_tweets.csv')\n",
    "data.head()"
   ]
  },
  {
   "cell_type": "code",
   "execution_count": 5,
   "id": "fifty-scanning",
   "metadata": {
    "execution": {
     "iopub.execute_input": "2021-07-02T22:02:30.214837Z",
     "iopub.status.busy": "2021-07-02T22:02:30.214142Z",
     "iopub.status.idle": "2021-07-02T22:02:30.217477Z",
     "shell.execute_reply": "2021-07-02T22:02:30.216831Z",
     "shell.execute_reply.started": "2021-07-02T21:19:59.364447Z"
    },
    "papermill": {
     "duration": 0.063145,
     "end_time": "2021-07-02T22:02:30.217620",
     "exception": false,
     "start_time": "2021-07-02T22:02:30.154475",
     "status": "completed"
    },
    "tags": []
   },
   "outputs": [],
   "source": [
    "import re\n",
    "def clean(text):\n",
    "    text = re.sub('https?://\\S+|www\\.\\S+', '', text)\n",
    "    text = re.sub(r'\\s+', ' ', text, flags=re.I)\n",
    "    text = re.sub('\\[.*?\\]', '', text)\n",
    "    text = re.sub('\\n', '', text)\n",
    "    text = re.sub('\\w*\\d\\w*', '', text)\n",
    "    text = re.sub('<.*?>+', '', text)\n",
    "    return text"
   ]
  },
  {
   "cell_type": "code",
   "execution_count": 6,
   "id": "graphic-shame",
   "metadata": {
    "execution": {
     "iopub.execute_input": "2021-07-02T22:02:30.335860Z",
     "iopub.status.busy": "2021-07-02T22:02:30.334931Z",
     "iopub.status.idle": "2021-07-02T22:02:36.589452Z",
     "shell.execute_reply": "2021-07-02T22:02:36.588764Z",
     "shell.execute_reply.started": "2021-07-02T21:19:59.372232Z"
    },
    "papermill": {
     "duration": 6.318113,
     "end_time": "2021-07-02T22:02:36.589598",
     "exception": false,
     "start_time": "2021-07-02T22:02:30.271485",
     "status": "completed"
    },
    "tags": []
   },
   "outputs": [],
   "source": [
    "data['text'] = data['text'].apply(lambda x:clean(x))"
   ]
  },
  {
   "cell_type": "code",
   "execution_count": 7,
   "id": "narrative-poland",
   "metadata": {
    "execution": {
     "iopub.execute_input": "2021-07-02T22:02:36.705852Z",
     "iopub.status.busy": "2021-07-02T22:02:36.704752Z",
     "iopub.status.idle": "2021-07-02T22:03:06.556263Z",
     "shell.execute_reply": "2021-07-02T22:03:06.556844Z",
     "shell.execute_reply.started": "2021-07-02T21:20:06.041970Z"
    },
    "papermill": {
     "duration": 29.913598,
     "end_time": "2021-07-02T22:03:06.557039",
     "exception": false,
     "start_time": "2021-07-02T22:02:36.643441",
     "status": "completed"
    },
    "tags": []
   },
   "outputs": [],
   "source": [
    "sia=SIA()\n",
    "scores=[]\n",
    "for i in range(len(data['text'])):\n",
    "    \n",
    "    score = sia.polarity_scores(data['text'][i])\n",
    "    score=score['compound']\n",
    "    scores.append(score)\n",
    "sentiment=[]\n",
    "for i in scores:\n",
    "    if i>=0.05:\n",
    "        sentiment.append('Positive')\n",
    "    elif i<=(-0.05):\n",
    "        sentiment.append('Negative')\n",
    "    else:\n",
    "        sentiment.append('Neutral')\n",
    "data['sentiment']=pd.Series(np.array(sentiment))"
   ]
  },
  {
   "cell_type": "code",
   "execution_count": 8,
   "id": "loving-matter",
   "metadata": {
    "execution": {
     "iopub.execute_input": "2021-07-02T22:03:06.684912Z",
     "iopub.status.busy": "2021-07-02T22:03:06.679845Z",
     "iopub.status.idle": "2021-07-02T22:03:07.909613Z",
     "shell.execute_reply": "2021-07-02T22:03:07.909093Z",
     "shell.execute_reply.started": "2021-07-02T21:20:36.916398Z"
    },
    "papermill": {
     "duration": 1.297539,
     "end_time": "2021-07-02T22:03:07.909758",
     "exception": false,
     "start_time": "2021-07-02T22:03:06.612219",
     "status": "completed"
    },
    "tags": []
   },
   "outputs": [
    {
     "data": {
      "text/plain": [
       "0         same folks said daikon paste could treat a cyt...\n",
       "1         while the world has been on the wrong side of ...\n",
       "2         coronavirus sputnikv astrazeneca pfizerbiontec...\n",
       "3         facts are immutable senator even when youre no...\n",
       "4         explain to me again why we need a vaccine bori...\n",
       "                                ...                        \n",
       "125901    the who said its review of how russia produces...\n",
       "125902    who raises concern on crosscontamination insuf...\n",
       "125903                             sputnikv paid hyderabad \n",
       "125904    livenews moldova capital chisinau mayor ion ce...\n",
       "125905    when was the sputnikv  exploratory stageanimal...\n",
       "Name: text, Length: 125906, dtype: object"
      ]
     },
     "execution_count": 8,
     "metadata": {},
     "output_type": "execute_result"
    }
   ],
   "source": [
    "import string\n",
    "\n",
    "def clean_text(text):\n",
    "    \n",
    "    text = str(text).lower()\n",
    "    text = re.sub('[%s]' % re.escape(string.punctuation), '', text)\n",
    "    \n",
    "    return text\n",
    "data['text'] = data['text'].apply(lambda x:clean_text(x))\n",
    "\n",
    "data['text']"
   ]
  },
  {
   "cell_type": "code",
   "execution_count": 9,
   "id": "innocent-closer",
   "metadata": {
    "execution": {
     "iopub.execute_input": "2021-07-02T22:03:08.034974Z",
     "iopub.status.busy": "2021-07-02T22:03:08.033892Z",
     "iopub.status.idle": "2021-07-02T22:04:17.399874Z",
     "shell.execute_reply": "2021-07-02T22:04:17.400423Z",
     "shell.execute_reply.started": "2021-07-02T21:20:38.235369Z"
    },
    "papermill": {
     "duration": 69.436035,
     "end_time": "2021-07-02T22:04:17.400614",
     "exception": false,
     "start_time": "2021-07-02T22:03:07.964579",
     "status": "completed"
    },
    "tags": []
   },
   "outputs": [],
   "source": [
    "df=pd.DataFrame()\n",
    "df['text']=data['text']\n",
    "def tokenization(text):\n",
    "    text = re.split('\\W+', text)\n",
    "    return text\n",
    "\n",
    "df['tokenized'] = df['text'].apply(lambda x: tokenization(x.lower()))\n",
    "stopword = nltk.corpus.stopwords.words('english')\n",
    "def remove_stopwords(text):\n",
    "    text = [word for word in text if word not in stopword]\n",
    "    return text\n",
    "    \n",
    "df['No_stopwords'] = df['tokenized'].apply(lambda x: remove_stopwords(x))\n",
    "\n",
    "ps = nltk.PorterStemmer()\n",
    "\n",
    "def stemming1(text):\n",
    "    text = [ps.stem(word) for word in text]\n",
    "    return text\n",
    "\n",
    "df['stemmed_porter'] = df['No_stopwords'].apply(lambda x: stemming1(x))\n",
    "\n",
    "from nltk.stem.snowball import SnowballStemmer\n",
    "s_stemmer = SnowballStemmer(language='english')\n",
    "def stemming2(text):\n",
    "    text = [s_stemmer.stem(word) for word in text]\n",
    "    return text\n",
    "df['stemmed_snowball'] = df['No_stopwords'].apply(lambda x: stemming2(x))\n",
    "\n",
    "wn = nltk.WordNetLemmatizer()\n",
    "\n",
    "def lemmatizer(text):\n",
    "    text = [wn.lemmatize(word) for word in text]\n",
    "    return text\n",
    "\n",
    "df['lemmatized'] = df['No_stopwords'].apply(lambda x: lemmatizer(x))\n",
    "\n"
   ]
  },
  {
   "cell_type": "code",
   "execution_count": 10,
   "id": "recorded-swaziland",
   "metadata": {
    "execution": {
     "iopub.execute_input": "2021-07-02T22:04:17.545204Z",
     "iopub.status.busy": "2021-07-02T22:04:17.544586Z",
     "iopub.status.idle": "2021-07-02T22:04:17.548544Z",
     "shell.execute_reply": "2021-07-02T22:04:17.549015Z",
     "shell.execute_reply.started": "2021-07-02T21:21:51.677279Z"
    },
    "papermill": {
     "duration": 0.094452,
     "end_time": "2021-07-02T22:04:17.549179",
     "exception": false,
     "start_time": "2021-07-02T22:04:17.454727",
     "status": "completed"
    },
    "tags": []
   },
   "outputs": [
    {
     "data": {
      "text/html": [
       "<div>\n",
       "<style scoped>\n",
       "    .dataframe tbody tr th:only-of-type {\n",
       "        vertical-align: middle;\n",
       "    }\n",
       "\n",
       "    .dataframe tbody tr th {\n",
       "        vertical-align: top;\n",
       "    }\n",
       "\n",
       "    .dataframe thead th {\n",
       "        text-align: right;\n",
       "    }\n",
       "</style>\n",
       "<table border=\"1\" class=\"dataframe\">\n",
       "  <thead>\n",
       "    <tr style=\"text-align: right;\">\n",
       "      <th></th>\n",
       "      <th>text</th>\n",
       "      <th>tokenized</th>\n",
       "      <th>No_stopwords</th>\n",
       "      <th>stemmed_porter</th>\n",
       "      <th>stemmed_snowball</th>\n",
       "      <th>lemmatized</th>\n",
       "    </tr>\n",
       "  </thead>\n",
       "  <tbody>\n",
       "    <tr>\n",
       "      <th>0</th>\n",
       "      <td>same folks said daikon paste could treat a cyt...</td>\n",
       "      <td>[same, folks, said, daikon, paste, could, trea...</td>\n",
       "      <td>[folks, said, daikon, paste, could, treat, cyt...</td>\n",
       "      <td>[folk, said, daikon, past, could, treat, cytok...</td>\n",
       "      <td>[folk, said, daikon, past, could, treat, cytok...</td>\n",
       "      <td>[folk, said, daikon, paste, could, treat, cyto...</td>\n",
       "    </tr>\n",
       "    <tr>\n",
       "      <th>1</th>\n",
       "      <td>while the world has been on the wrong side of ...</td>\n",
       "      <td>[while, the, world, has, been, on, the, wrong,...</td>\n",
       "      <td>[world, wrong, side, history, year, hopefully,...</td>\n",
       "      <td>[world, wrong, side, histori, year, hope, bigg...</td>\n",
       "      <td>[world, wrong, side, histori, year, hope, bigg...</td>\n",
       "      <td>[world, wrong, side, history, year, hopefully,...</td>\n",
       "    </tr>\n",
       "    <tr>\n",
       "      <th>2</th>\n",
       "      <td>coronavirus sputnikv astrazeneca pfizerbiontec...</td>\n",
       "      <td>[coronavirus, sputnikv, astrazeneca, pfizerbio...</td>\n",
       "      <td>[coronavirus, sputnikv, astrazeneca, pfizerbio...</td>\n",
       "      <td>[coronaviru, sputnikv, astrazeneca, pfizerbion...</td>\n",
       "      <td>[coronavirus, sputnikv, astrazeneca, pfizerbio...</td>\n",
       "      <td>[coronavirus, sputnikv, astrazeneca, pfizerbio...</td>\n",
       "    </tr>\n",
       "    <tr>\n",
       "      <th>3</th>\n",
       "      <td>facts are immutable senator even when youre no...</td>\n",
       "      <td>[facts, are, immutable, senator, even, when, y...</td>\n",
       "      <td>[facts, immutable, senator, even, youre, ethic...</td>\n",
       "      <td>[fact, immut, senat, even, your, ethic, sturdi...</td>\n",
       "      <td>[fact, immut, senat, even, your, ethic, sturdi...</td>\n",
       "      <td>[fact, immutable, senator, even, youre, ethica...</td>\n",
       "    </tr>\n",
       "    <tr>\n",
       "      <th>4</th>\n",
       "      <td>explain to me again why we need a vaccine bori...</td>\n",
       "      <td>[explain, to, me, again, why, we, need, a, vac...</td>\n",
       "      <td>[explain, need, vaccine, borisjohnson, matthan...</td>\n",
       "      <td>[explain, need, vaccin, borisjohnson, matthanc...</td>\n",
       "      <td>[explain, need, vaccin, borisjohnson, matthanc...</td>\n",
       "      <td>[explain, need, vaccine, borisjohnson, matthan...</td>\n",
       "    </tr>\n",
       "    <tr>\n",
       "      <th>5</th>\n",
       "      <td>does anyone have any useful adviceguidance for...</td>\n",
       "      <td>[does, anyone, have, any, useful, adviceguidan...</td>\n",
       "      <td>[anyone, useful, adviceguidance, whether, covi...</td>\n",
       "      <td>[anyon, use, adviceguid, whether, covid, vacci...</td>\n",
       "      <td>[anyon, use, adviceguid, whether, covid, vacci...</td>\n",
       "      <td>[anyone, useful, adviceguidance, whether, covi...</td>\n",
       "    </tr>\n",
       "    <tr>\n",
       "      <th>6</th>\n",
       "      <td>it is a bit sad to claim the fame for success ...</td>\n",
       "      <td>[it, is, a, bit, sad, to, claim, the, fame, fo...</td>\n",
       "      <td>[bit, sad, claim, fame, success, vaccination, ...</td>\n",
       "      <td>[bit, sad, claim, fame, success, vaccin, patri...</td>\n",
       "      <td>[bit, sad, claim, fame, success, vaccin, patri...</td>\n",
       "      <td>[bit, sad, claim, fame, success, vaccination, ...</td>\n",
       "    </tr>\n",
       "    <tr>\n",
       "      <th>7</th>\n",
       "      <td>there have not been many bright days in  but h...</td>\n",
       "      <td>[there, have, not, been, many, bright, days, i...</td>\n",
       "      <td>[many, bright, days, best, bidenharris, winnin...</td>\n",
       "      <td>[mani, bright, day, best, bidenharri, win, ]</td>\n",
       "      <td>[mani, bright, day, best, bidenharri, win, ]</td>\n",
       "      <td>[many, bright, day, best, bidenharris, winning, ]</td>\n",
       "    </tr>\n",
       "    <tr>\n",
       "      <th>8</th>\n",
       "      <td>covid vaccine you getting it covidvaccine  pfi...</td>\n",
       "      <td>[covid, vaccine, you, getting, it, covidvaccin...</td>\n",
       "      <td>[covid, vaccine, getting, covidvaccine, pfizer...</td>\n",
       "      <td>[covid, vaccin, get, covidvaccin, pfizerbionte...</td>\n",
       "      <td>[covid, vaccin, get, covidvaccin, pfizerbionte...</td>\n",
       "      <td>[covid, vaccine, getting, covidvaccine, pfizer...</td>\n",
       "    </tr>\n",
       "    <tr>\n",
       "      <th>9</th>\n",
       "      <td>covidvaccine states will start getting  monday...</td>\n",
       "      <td>[covidvaccine, states, will, start, getting, m...</td>\n",
       "      <td>[covidvaccine, states, start, getting, monday,...</td>\n",
       "      <td>[covidvaccin, state, start, get, monday, us, s...</td>\n",
       "      <td>[covidvaccin, state, start, get, monday, us, s...</td>\n",
       "      <td>[covidvaccine, state, start, getting, monday, ...</td>\n",
       "    </tr>\n",
       "  </tbody>\n",
       "</table>\n",
       "</div>"
      ],
      "text/plain": [
       "                                                text  \\\n",
       "0  same folks said daikon paste could treat a cyt...   \n",
       "1  while the world has been on the wrong side of ...   \n",
       "2  coronavirus sputnikv astrazeneca pfizerbiontec...   \n",
       "3  facts are immutable senator even when youre no...   \n",
       "4  explain to me again why we need a vaccine bori...   \n",
       "5  does anyone have any useful adviceguidance for...   \n",
       "6  it is a bit sad to claim the fame for success ...   \n",
       "7  there have not been many bright days in  but h...   \n",
       "8  covid vaccine you getting it covidvaccine  pfi...   \n",
       "9  covidvaccine states will start getting  monday...   \n",
       "\n",
       "                                           tokenized  \\\n",
       "0  [same, folks, said, daikon, paste, could, trea...   \n",
       "1  [while, the, world, has, been, on, the, wrong,...   \n",
       "2  [coronavirus, sputnikv, astrazeneca, pfizerbio...   \n",
       "3  [facts, are, immutable, senator, even, when, y...   \n",
       "4  [explain, to, me, again, why, we, need, a, vac...   \n",
       "5  [does, anyone, have, any, useful, adviceguidan...   \n",
       "6  [it, is, a, bit, sad, to, claim, the, fame, fo...   \n",
       "7  [there, have, not, been, many, bright, days, i...   \n",
       "8  [covid, vaccine, you, getting, it, covidvaccin...   \n",
       "9  [covidvaccine, states, will, start, getting, m...   \n",
       "\n",
       "                                        No_stopwords  \\\n",
       "0  [folks, said, daikon, paste, could, treat, cyt...   \n",
       "1  [world, wrong, side, history, year, hopefully,...   \n",
       "2  [coronavirus, sputnikv, astrazeneca, pfizerbio...   \n",
       "3  [facts, immutable, senator, even, youre, ethic...   \n",
       "4  [explain, need, vaccine, borisjohnson, matthan...   \n",
       "5  [anyone, useful, adviceguidance, whether, covi...   \n",
       "6  [bit, sad, claim, fame, success, vaccination, ...   \n",
       "7  [many, bright, days, best, bidenharris, winnin...   \n",
       "8  [covid, vaccine, getting, covidvaccine, pfizer...   \n",
       "9  [covidvaccine, states, start, getting, monday,...   \n",
       "\n",
       "                                      stemmed_porter  \\\n",
       "0  [folk, said, daikon, past, could, treat, cytok...   \n",
       "1  [world, wrong, side, histori, year, hope, bigg...   \n",
       "2  [coronaviru, sputnikv, astrazeneca, pfizerbion...   \n",
       "3  [fact, immut, senat, even, your, ethic, sturdi...   \n",
       "4  [explain, need, vaccin, borisjohnson, matthanc...   \n",
       "5  [anyon, use, adviceguid, whether, covid, vacci...   \n",
       "6  [bit, sad, claim, fame, success, vaccin, patri...   \n",
       "7       [mani, bright, day, best, bidenharri, win, ]   \n",
       "8  [covid, vaccin, get, covidvaccin, pfizerbionte...   \n",
       "9  [covidvaccin, state, start, get, monday, us, s...   \n",
       "\n",
       "                                    stemmed_snowball  \\\n",
       "0  [folk, said, daikon, past, could, treat, cytok...   \n",
       "1  [world, wrong, side, histori, year, hope, bigg...   \n",
       "2  [coronavirus, sputnikv, astrazeneca, pfizerbio...   \n",
       "3  [fact, immut, senat, even, your, ethic, sturdi...   \n",
       "4  [explain, need, vaccin, borisjohnson, matthanc...   \n",
       "5  [anyon, use, adviceguid, whether, covid, vacci...   \n",
       "6  [bit, sad, claim, fame, success, vaccin, patri...   \n",
       "7       [mani, bright, day, best, bidenharri, win, ]   \n",
       "8  [covid, vaccin, get, covidvaccin, pfizerbionte...   \n",
       "9  [covidvaccin, state, start, get, monday, us, s...   \n",
       "\n",
       "                                          lemmatized  \n",
       "0  [folk, said, daikon, paste, could, treat, cyto...  \n",
       "1  [world, wrong, side, history, year, hopefully,...  \n",
       "2  [coronavirus, sputnikv, astrazeneca, pfizerbio...  \n",
       "3  [fact, immutable, senator, even, youre, ethica...  \n",
       "4  [explain, need, vaccine, borisjohnson, matthan...  \n",
       "5  [anyone, useful, adviceguidance, whether, covi...  \n",
       "6  [bit, sad, claim, fame, success, vaccination, ...  \n",
       "7  [many, bright, day, best, bidenharris, winning, ]  \n",
       "8  [covid, vaccine, getting, covidvaccine, pfizer...  \n",
       "9  [covidvaccine, state, start, getting, monday, ...  "
      ]
     },
     "execution_count": 10,
     "metadata": {},
     "output_type": "execute_result"
    }
   ],
   "source": [
    "df.head(10)"
   ]
  },
  {
   "cell_type": "code",
   "execution_count": 11,
   "id": "broad-drive",
   "metadata": {
    "execution": {
     "iopub.execute_input": "2021-07-02T22:04:17.713899Z",
     "iopub.status.busy": "2021-07-02T22:04:17.683297Z",
     "iopub.status.idle": "2021-07-02T22:04:17.900032Z",
     "shell.execute_reply": "2021-07-02T22:04:17.900530Z",
     "shell.execute_reply.started": "2021-07-02T21:21:51.718193Z"
    },
    "papermill": {
     "duration": 0.296859,
     "end_time": "2021-07-02T22:04:17.900698",
     "exception": false,
     "start_time": "2021-07-02T22:04:17.603839",
     "status": "completed"
    },
    "tags": []
   },
   "outputs": [
    {
     "data": {
      "text/html": [
       "<style  type=\"text/css\" >\n",
       "#T_2d25f_row0_col1{\n",
       "            background-color:  #3b4cc0;\n",
       "            color:  #f1f1f1;\n",
       "        }#T_2d25f_row1_col1{\n",
       "            background-color:  #dadce0;\n",
       "            color:  #000000;\n",
       "        }#T_2d25f_row2_col1{\n",
       "            background-color:  #b40426;\n",
       "            color:  #f1f1f1;\n",
       "        }</style><table id=\"T_2d25f_\" ><thead>    <tr>        <th class=\"blank level0\" ></th>        <th class=\"col_heading level0 col0\" >sentiment</th>        <th class=\"col_heading level0 col1\" >text</th>    </tr></thead><tbody>\n",
       "                <tr>\n",
       "                        <th id=\"T_2d25f_level0_row0\" class=\"row_heading level0 row0\" >1</th>\n",
       "                        <td id=\"T_2d25f_row0_col0\" class=\"data row0 col0\" >Neutral</td>\n",
       "                        <td id=\"T_2d25f_row0_col1\" class=\"data row0 col1\" >62042</td>\n",
       "            </tr>\n",
       "            <tr>\n",
       "                        <th id=\"T_2d25f_level0_row1\" class=\"row_heading level0 row1\" >2</th>\n",
       "                        <td id=\"T_2d25f_row1_col0\" class=\"data row1 col0\" >Positive</td>\n",
       "                        <td id=\"T_2d25f_row1_col1\" class=\"data row1 col1\" >42186</td>\n",
       "            </tr>\n",
       "            <tr>\n",
       "                        <th id=\"T_2d25f_level0_row2\" class=\"row_heading level0 row2\" >0</th>\n",
       "                        <td id=\"T_2d25f_row2_col0\" class=\"data row2 col0\" >Negative</td>\n",
       "                        <td id=\"T_2d25f_row2_col1\" class=\"data row2 col1\" >21678</td>\n",
       "            </tr>\n",
       "    </tbody></table>"
      ],
      "text/plain": [
       "<pandas.io.formats.style.Styler at 0x7f423fbe6410>"
      ]
     },
     "execution_count": 11,
     "metadata": {},
     "output_type": "execute_result"
    }
   ],
   "source": [
    "temp = data.groupby('sentiment').count()['text'].reset_index().sort_values(by='text',ascending=False)\n",
    "temp.style.background_gradient(cmap='coolwarm_r')"
   ]
  },
  {
   "cell_type": "code",
   "execution_count": 12,
   "id": "duplicate-accommodation",
   "metadata": {
    "execution": {
     "iopub.execute_input": "2021-07-02T22:04:18.066896Z",
     "iopub.status.busy": "2021-07-02T22:04:18.050986Z",
     "iopub.status.idle": "2021-07-02T22:04:20.738411Z",
     "shell.execute_reply": "2021-07-02T22:04:20.737781Z",
     "shell.execute_reply.started": "2021-07-02T21:21:51.969022Z"
    },
    "papermill": {
     "duration": 2.782704,
     "end_time": "2021-07-02T22:04:20.738559",
     "exception": false,
     "start_time": "2021-07-02T22:04:17.955855",
     "status": "completed"
    },
    "tags": []
   },
   "outputs": [],
   "source": [
    "from sklearn.feature_extraction.text import CountVectorizer\n",
    "n = nltk.WordNetLemmatizer()\n",
    "\n",
    "from nltk.tokenize import RegexpTokenizer\n",
    "token = RegexpTokenizer(r'[a-zA-Z0-9]+')\n",
    "cv = CountVectorizer(stop_words='english',ngram_range = (1,1),tokenizer = token.tokenize)\n",
    "text_counts = cv.fit_transform(df['text'])"
   ]
  },
  {
   "cell_type": "code",
   "execution_count": 13,
   "id": "boxed-builder",
   "metadata": {
    "execution": {
     "iopub.execute_input": "2021-07-02T22:04:20.858083Z",
     "iopub.status.busy": "2021-07-02T22:04:20.857457Z",
     "iopub.status.idle": "2021-07-02T22:04:20.876654Z",
     "shell.execute_reply": "2021-07-02T22:04:20.877238Z",
     "shell.execute_reply.started": "2021-07-02T21:21:54.693976Z"
    },
    "papermill": {
     "duration": 0.080694,
     "end_time": "2021-07-02T22:04:20.877439",
     "exception": false,
     "start_time": "2021-07-02T22:04:20.796745",
     "status": "completed"
    },
    "tags": []
   },
   "outputs": [
    {
     "name": "stdout",
     "output_type": "stream",
     "text": [
      "  (0, 22614)\t1\n",
      "  (0, 53597)\t1\n",
      "  (0, 14824)\t1\n",
      "  (0, 45771)\t1\n",
      "  (0, 63234)\t1\n",
      "  (0, 14755)\t1\n",
      "  (0, 59015)\t1\n",
      "  (0, 46585)\t1\n",
      "  (1, 68856)\t1\n",
      "  (1, 69028)\t1\n",
      "  (1, 27328)\t1\n",
      "  (1, 69373)\t1\n",
      "  (1, 27626)\t1\n",
      "  (1, 6768)\t1\n",
      "  (1, 65416)\t1\n",
      "  (1, 19228)\t1\n",
      "  (1, 68102)\t1\n",
      "  (1, 20587)\t1\n",
      "  (2, 46585)\t1\n",
      "  (2, 13204)\t1\n",
      "  (2, 58173)\t1\n",
      "  (2, 4290)\t1\n",
      "  (2, 39589)\t1\n",
      "  (2, 53271)\t1\n",
      "  (2, 65511)\t1\n",
      "  :\t:\n",
      "  (125902, 58765)\t1\n",
      "  (125903, 58173)\t1\n",
      "  (125903, 45199)\t1\n",
      "  (125903, 28201)\t1\n",
      "  (125904, 58173)\t1\n",
      "  (125904, 51813)\t1\n",
      "  (125904, 12076)\t1\n",
      "  (125904, 65405)\t1\n",
      "  (125904, 9115)\t1\n",
      "  (125904, 9403)\t1\n",
      "  (125904, 37879)\t1\n",
      "  (125904, 35583)\t1\n",
      "  (125904, 39852)\t1\n",
      "  (125904, 11297)\t1\n",
      "  (125904, 10882)\t1\n",
      "  (125904, 30572)\t1\n",
      "  (125904, 9967)\t1\n",
      "  (125905, 58173)\t1\n",
      "  (125905, 61191)\t1\n",
      "  (125905, 48229)\t1\n",
      "  (125905, 28856)\t1\n",
      "  (125905, 21046)\t1\n",
      "  (125905, 58411)\t1\n",
      "  (125905, 40741)\t1\n",
      "  (125905, 58417)\t1\n"
     ]
    }
   ],
   "source": [
    "print (text_counts)"
   ]
  },
  {
   "cell_type": "code",
   "execution_count": 14,
   "id": "coupled-devon",
   "metadata": {
    "execution": {
     "iopub.execute_input": "2021-07-02T22:04:20.992706Z",
     "iopub.status.busy": "2021-07-02T22:04:20.992044Z",
     "iopub.status.idle": "2021-07-02T22:04:21.021674Z",
     "shell.execute_reply": "2021-07-02T22:04:21.022215Z",
     "shell.execute_reply.started": "2021-07-02T21:21:54.716502Z"
    },
    "papermill": {
     "duration": 0.088352,
     "end_time": "2021-07-02T22:04:21.022417",
     "exception": false,
     "start_time": "2021-07-02T22:04:20.934065",
     "status": "completed"
    },
    "tags": []
   },
   "outputs": [],
   "source": [
    "from sklearn.model_selection import train_test_split\n",
    "X_train, X_test, Y_train, Y_test = train_test_split(text_counts, data['sentiment'], test_size=0.25, random_state=5)"
   ]
  },
  {
   "cell_type": "code",
   "execution_count": 15,
   "id": "boxed-gospel",
   "metadata": {
    "execution": {
     "iopub.execute_input": "2021-07-02T22:04:21.139344Z",
     "iopub.status.busy": "2021-07-02T22:04:21.138702Z",
     "iopub.status.idle": "2021-07-02T22:04:21.151703Z",
     "shell.execute_reply": "2021-07-02T22:04:21.151048Z",
     "shell.execute_reply.started": "2021-07-02T21:21:54.749870Z"
    },
    "papermill": {
     "duration": 0.072608,
     "end_time": "2021-07-02T22:04:21.151847",
     "exception": false,
     "start_time": "2021-07-02T22:04:21.079239",
     "status": "completed"
    },
    "tags": []
   },
   "outputs": [
    {
     "name": "stdout",
     "output_type": "stream",
     "text": [
      "  (0, 68709)\t1\n",
      "  (0, 60461)\t1\n",
      "  (0, 13427)\t1\n",
      "  (0, 45044)\t1\n",
      "  (0, 60002)\t1\n",
      "  (0, 47047)\t1\n",
      "  (1, 58173)\t1\n",
      "  (1, 2426)\t1\n",
      "  (1, 19202)\t1\n",
      "  (1, 6446)\t1\n",
      "  (1, 32011)\t2\n",
      "  (1, 33531)\t1\n",
      "  (1, 33341)\t1\n",
      "  (2, 46585)\t1\n",
      "  (2, 65511)\t1\n",
      "  (2, 45199)\t1\n",
      "  (2, 30817)\t1\n",
      "  (2, 32395)\t1\n",
      "  (2, 49864)\t1\n",
      "  (2, 36706)\t1\n",
      "  (2, 6294)\t1\n",
      "  (3, 1244)\t1\n",
      "  (3, 25119)\t1\n",
      "  (3, 13518)\t1\n",
      "  (3, 56961)\t1\n",
      "  :\t:\n",
      "  (94425, 62784)\t1\n",
      "  (94425, 13518)\t1\n",
      "  (94425, 24488)\t1\n",
      "  (94426, 10464)\t1\n",
      "  (94426, 65747)\t1\n",
      "  (94426, 65052)\t1\n",
      "  (94426, 29385)\t1\n",
      "  (94426, 58622)\t1\n",
      "  (94426, 13518)\t1\n",
      "  (94426, 13934)\t1\n",
      "  (94427, 2426)\t1\n",
      "  (94427, 24791)\t1\n",
      "  (94427, 62042)\t1\n",
      "  (94427, 60770)\t1\n",
      "  (94427, 22621)\t1\n",
      "  (94427, 34768)\t1\n",
      "  (94427, 20757)\t1\n",
      "  (94427, 33523)\t1\n",
      "  (94428, 39589)\t1\n",
      "  (94428, 3687)\t1\n",
      "  (94428, 54210)\t1\n",
      "  (94428, 66276)\t1\n",
      "  (94428, 27007)\t1\n",
      "  (94428, 35610)\t1\n",
      "  (94428, 50613)\t1\n"
     ]
    }
   ],
   "source": [
    "print (X_train)"
   ]
  },
  {
   "cell_type": "code",
   "execution_count": 16,
   "id": "personalized-angola",
   "metadata": {
    "execution": {
     "iopub.execute_input": "2021-07-02T22:04:21.272011Z",
     "iopub.status.busy": "2021-07-02T22:04:21.271111Z",
     "iopub.status.idle": "2021-07-02T22:04:21.276407Z",
     "shell.execute_reply": "2021-07-02T22:04:21.276903Z",
     "shell.execute_reply.started": "2021-07-02T21:21:54.764983Z"
    },
    "papermill": {
     "duration": 0.067742,
     "end_time": "2021-07-02T22:04:21.277072",
     "exception": false,
     "start_time": "2021-07-02T22:04:21.209330",
     "status": "completed"
    },
    "tags": []
   },
   "outputs": [],
   "source": [
    "from sklearn.naive_bayes import MultinomialNB"
   ]
  },
  {
   "cell_type": "code",
   "execution_count": 17,
   "id": "second-hardwood",
   "metadata": {
    "execution": {
     "iopub.execute_input": "2021-07-02T22:04:21.395932Z",
     "iopub.status.busy": "2021-07-02T22:04:21.394915Z",
     "iopub.status.idle": "2021-07-02T22:04:22.227462Z",
     "shell.execute_reply": "2021-07-02T22:04:22.226837Z",
     "shell.execute_reply.started": "2021-07-02T21:21:54.774165Z"
    },
    "papermill": {
     "duration": 0.893076,
     "end_time": "2021-07-02T22:04:22.227600",
     "exception": false,
     "start_time": "2021-07-02T22:04:21.334524",
     "status": "completed"
    },
    "tags": []
   },
   "outputs": [
    {
     "data": {
      "text/plain": [
       "MultinomialNB()"
      ]
     },
     "execution_count": 17,
     "metadata": {},
     "output_type": "execute_result"
    }
   ],
   "source": [
    "MNB = MultinomialNB()\n",
    "MNB.fit(X_train, Y_train)"
   ]
  },
  {
   "cell_type": "code",
   "execution_count": 18,
   "id": "living-grammar",
   "metadata": {
    "execution": {
     "iopub.execute_input": "2021-07-02T22:04:22.343691Z",
     "iopub.status.busy": "2021-07-02T22:04:22.342977Z",
     "iopub.status.idle": "2021-07-02T22:04:22.404311Z",
     "shell.execute_reply": "2021-07-02T22:04:22.404828Z",
     "shell.execute_reply.started": "2021-07-02T21:21:55.783827Z"
    },
    "papermill": {
     "duration": 0.121163,
     "end_time": "2021-07-02T22:04:22.405069",
     "exception": false,
     "start_time": "2021-07-02T22:04:22.283906",
     "status": "completed"
    },
    "tags": []
   },
   "outputs": [],
   "source": [
    "from sklearn import metrics\n",
    "predicted = MNB.predict(X_test)\n",
    "accuracy_score = metrics.accuracy_score(predicted, Y_test)"
   ]
  },
  {
   "cell_type": "code",
   "execution_count": 19,
   "id": "fatty-oregon",
   "metadata": {
    "execution": {
     "iopub.execute_input": "2021-07-02T22:04:22.525308Z",
     "iopub.status.busy": "2021-07-02T22:04:22.524727Z",
     "iopub.status.idle": "2021-07-02T22:04:22.529430Z",
     "shell.execute_reply": "2021-07-02T22:04:22.530002Z",
     "shell.execute_reply.started": "2021-07-02T21:21:55.863959Z"
    },
    "papermill": {
     "duration": 0.065939,
     "end_time": "2021-07-02T22:04:22.530155",
     "exception": false,
     "start_time": "2021-07-02T22:04:22.464216",
     "status": "completed"
    },
    "tags": []
   },
   "outputs": [
    {
     "name": "stdout",
     "output_type": "stream",
     "text": [
      "77.63%\n"
     ]
    }
   ],
   "source": [
    "print(str('{:04.2f}'.format(accuracy_score*100))+'%')"
   ]
  },
  {
   "cell_type": "code",
   "execution_count": 20,
   "id": "exposed-there",
   "metadata": {
    "execution": {
     "iopub.execute_input": "2021-07-02T22:04:22.648182Z",
     "iopub.status.busy": "2021-07-02T22:04:22.647586Z",
     "iopub.status.idle": "2021-07-02T22:04:22.649758Z",
     "shell.execute_reply": "2021-07-02T22:04:22.650251Z",
     "shell.execute_reply.started": "2021-07-02T21:21:55.871954Z"
    },
    "papermill": {
     "duration": 0.064207,
     "end_time": "2021-07-02T22:04:22.650467",
     "exception": false,
     "start_time": "2021-07-02T22:04:22.586260",
     "status": "completed"
    },
    "tags": []
   },
   "outputs": [],
   "source": [
    "from sklearn.naive_bayes import ComplementNB\n",
    "from sklearn.naive_bayes import GaussianNB\n",
    "from sklearn.naive_bayes import BernoulliNB\n",
    "CNB = ComplementNB()\n",
    "GNB = GaussianNB()\n",
    "BNB = BernoulliNB()"
   ]
  },
  {
   "cell_type": "code",
   "execution_count": 21,
   "id": "american-bridge",
   "metadata": {
    "execution": {
     "iopub.execute_input": "2021-07-02T22:04:22.766644Z",
     "iopub.status.busy": "2021-07-02T22:04:22.766029Z",
     "iopub.status.idle": "2021-07-02T22:04:28.651666Z",
     "shell.execute_reply": "2021-07-02T22:04:28.650988Z",
     "shell.execute_reply.started": "2021-07-02T21:21:55.882663Z"
    },
    "papermill": {
     "duration": 5.944857,
     "end_time": "2021-07-02T22:04:28.651805",
     "exception": false,
     "start_time": "2021-07-02T22:04:22.706948",
     "status": "completed"
    },
    "tags": []
   },
   "outputs": [
    {
     "name": "stdout",
     "output_type": "stream",
     "text": [
      "accuracy_score_mnb = 76.76%\n",
      "accuracy_score_bnb = 77.03%\n",
      "accuracy_score_cnb = 77.94%\n"
     ]
    }
   ],
   "source": [
    "from sklearn.feature_extraction.text import TfidfVectorizer\n",
    "tfidf = TfidfVectorizer()\n",
    "text_count_2 = tfidf.fit_transform(df['text'])\n",
    "\n",
    "#splitting the data in test and training\n",
    "#from sklearn.model_selection() import train_test_split()\n",
    "x_train, x_test, y_train, y_test = train_test_split(text_count_2, data['sentiment'],test_size=0.25,random_state=5)\n",
    "\n",
    "#defining the model\n",
    "#compilimg the model -> we are going to use already used models  MNB, CNB, BNB\n",
    "#fitting the model\n",
    "MNB.fit(x_train, y_train)\n",
    "accuracy_score_mnb = metrics.accuracy_score(MNB.predict(x_test), y_test)\n",
    "print('accuracy_score_mnb = '+str('{:4.2f}'.format(accuracy_score_mnb*100))+'%')\n",
    "\n",
    "BNB.fit(x_train, y_train)\n",
    "accuracy_score_bnb = metrics.accuracy_score(BNB.predict(x_test), y_test)\n",
    "print('accuracy_score_bnb = '+str('{:4.2f}'.format(accuracy_score_bnb*100))+'%')\n",
    "\n",
    "CNB.fit(x_train, y_train)\n",
    "accuracy_score_cnb = metrics.accuracy_score(CNB.predict(x_test), y_test)\n",
    "print('accuracy_score_cnb = '+str('{:4.2f}'.format(accuracy_score_cnb*100))+'%')\n",
    "\n"
   ]
  },
  {
   "cell_type": "code",
   "execution_count": 22,
   "id": "million-library",
   "metadata": {
    "execution": {
     "iopub.execute_input": "2021-07-02T22:04:28.773339Z",
     "iopub.status.busy": "2021-07-02T22:04:28.772727Z",
     "iopub.status.idle": "2021-07-02T22:04:28.797158Z",
     "shell.execute_reply": "2021-07-02T22:04:28.797819Z",
     "shell.execute_reply.started": "2021-07-02T21:22:02.364938Z"
    },
    "papermill": {
     "duration": 0.086856,
     "end_time": "2021-07-02T22:04:28.798045",
     "exception": false,
     "start_time": "2021-07-02T22:04:28.711189",
     "status": "completed"
    },
    "tags": []
   },
   "outputs": [
    {
     "name": "stdout",
     "output_type": "stream",
     "text": [
      "  (0, 46805)\t0.15144981249931627\n",
      "  (0, 59262)\t0.3658996444942309\n",
      "  (0, 14832)\t0.4273303125251527\n",
      "  (0, 63526)\t0.33227411032259857\n",
      "  (0, 13458)\t0.21757022949041352\n",
      "  (0, 45988)\t0.3796499389693358\n",
      "  (0, 14902)\t0.44220984843425126\n",
      "  (0, 53816)\t0.1946768684799434\n",
      "  (0, 22731)\t0.27548251109608324\n",
      "  (0, 53999)\t0.22215534215107735\n",
      "  (1, 20685)\t0.34949007866604315\n",
      "  (1, 68421)\t0.3140428016084507\n",
      "  (1, 19320)\t0.3061922295602771\n",
      "  (1, 65720)\t0.1539410052949178\n",
      "  (1, 6825)\t0.29610854741177717\n",
      "  (1, 27772)\t0.2835969124933642\n",
      "  (1, 69713)\t0.2243871892290795\n",
      "  (1, 62249)\t0.14167345753025837\n",
      "  (1, 27474)\t0.2938919986080285\n",
      "  (1, 44041)\t0.08502888994819621\n",
      "  (1, 56454)\t0.19265785133371882\n",
      "  (1, 69370)\t0.29362388031089226\n",
      "  (1, 44373)\t0.10837964941305589\n",
      "  (1, 6075)\t0.17713433947803595\n",
      "  (1, 26508)\t0.1441469432622074\n",
      "  :\t:\n",
      "  (125904, 10952)\t0.3415743417028491\n",
      "  (125904, 11366)\t0.3300810027349588\n",
      "  (125904, 40030)\t0.29595311534952184\n",
      "  (125904, 35749)\t0.3300810027349588\n",
      "  (125904, 38052)\t0.2370091371267073\n",
      "  (125904, 9473)\t0.21449887480356697\n",
      "  (125904, 9181)\t0.233357232593647\n",
      "  (125904, 65709)\t0.26779833931730185\n",
      "  (125904, 12145)\t0.18225811203635206\n",
      "  (125904, 52039)\t0.21531113845111552\n",
      "  (125904, 22824)\t0.07960048239843352\n",
      "  (125904, 62811)\t0.1320476150018717\n",
      "  (125904, 58422)\t0.09661842625407269\n",
      "  (125904, 61687)\t0.05870469889654004\n",
      "  (125905, 58665)\t0.39998926148974\n",
      "  (125905, 40926)\t0.39998926148974\n",
      "  (125905, 58659)\t0.39998926148974\n",
      "  (125905, 21152)\t0.39998926148974\n",
      "  (125905, 29009)\t0.3539730058949886\n",
      "  (125905, 48452)\t0.33785719934564057\n",
      "  (125905, 61449)\t0.23355721552924125\n",
      "  (125905, 67907)\t0.14582346715790756\n",
      "  (125905, 68509)\t0.16507483905615766\n",
      "  (125905, 58422)\t0.11314179153798276\n",
      "  (125905, 61687)\t0.06874418330294844\n"
     ]
    }
   ],
   "source": [
    "print(text_count_2)"
   ]
  },
  {
   "cell_type": "code",
   "execution_count": 23,
   "id": "italian-legislation",
   "metadata": {
    "execution": {
     "iopub.execute_input": "2021-07-02T22:04:28.920108Z",
     "iopub.status.busy": "2021-07-02T22:04:28.919438Z",
     "iopub.status.idle": "2021-07-02T22:04:31.691804Z",
     "shell.execute_reply": "2021-07-02T22:04:31.692299Z",
     "shell.execute_reply.started": "2021-07-02T21:22:02.394067Z"
    },
    "papermill": {
     "duration": 2.835621,
     "end_time": "2021-07-02T22:04:31.692511",
     "exception": false,
     "start_time": "2021-07-02T22:04:28.856890",
     "status": "completed"
    },
    "tags": []
   },
   "outputs": [],
   "source": [
    "import matplotlib.pyplot as plt\n",
    "import plotly.express as px\n",
    "import plotly.graph_objects as go\n",
    "import plotly.figure_factory as ff\n",
    "from plotly.colors import n_colors\n",
    "from plotly.subplots import make_subplots"
   ]
  },
  {
   "cell_type": "code",
   "execution_count": 24,
   "id": "deluxe-lesbian",
   "metadata": {
    "execution": {
     "iopub.execute_input": "2021-07-02T22:04:31.812246Z",
     "iopub.status.busy": "2021-07-02T22:04:31.811315Z",
     "iopub.status.idle": "2021-07-02T22:04:58.192250Z",
     "shell.execute_reply": "2021-07-02T22:04:58.191625Z",
     "shell.execute_reply.started": "2021-07-02T21:22:05.282593Z"
    },
    "papermill": {
     "duration": 26.441714,
     "end_time": "2021-07-02T22:04:58.192413",
     "exception": false,
     "start_time": "2021-07-02T22:04:31.750699",
     "status": "completed"
    },
    "tags": []
   },
   "outputs": [
    {
     "data": {
      "text/html": [
       "        <script type=\"text/javascript\">\n",
       "        window.PlotlyConfig = {MathJaxConfig: 'local'};\n",
       "        if (window.MathJax) {MathJax.Hub.Config({SVG: {font: \"STIX-Web\"}});}\n",
       "        if (typeof require !== 'undefined') {\n",
       "        require.undef(\"plotly\");\n",
       "        requirejs.config({\n",
       "            paths: {\n",
       "                'plotly': ['https://cdn.plot.ly/plotly-latest.min']\n",
       "            }\n",
       "        });\n",
       "        require(['plotly'], function(Plotly) {\n",
       "            window._Plotly = Plotly;\n",
       "        });\n",
       "        }\n",
       "        </script>\n",
       "        "
      ]
     },
     "metadata": {},
     "output_type": "display_data"
    },
    {
     "data": {
      "text/html": [
       "<div>                            <div id=\"6080b08b-4551-4c45-9671-1ada1384d333\" class=\"plotly-graph-div\" style=\"height:1200px; width:100%;\"></div>            <script type=\"text/javascript\">                require([\"plotly\"], function(Plotly) {                    window.PLOTLYENV=window.PLOTLYENV || {};                                    if (document.getElementById(\"6080b08b-4551-4c45-9671-1ada1384d333\")) {                    Plotly.newPlot(                        \"6080b08b-4551-4c45-9671-1ada1384d333\",                        [{\"marker\": {\"color\": \"blue\"}, \"name\": \"Months\", \"orientation\": \"h\", \"text\": [36602.0, 33896.0, 28268.0, 13747.0, 12892.0, 11472.0, 9044.0, 8946.0, 8495.0, 8488.0, 7849.0, 7742.0, 7239.0, 6675.0, 6621.0, 6614.0, 6460.0, 6371.0, 5944.0, 5711.0], \"textposition\": \"outside\", \"type\": \"bar\", \"x\": [5711, 5944, 6371, 6460, 6614, 6621, 6675, 7239, 7742, 7849, 8488, 8495, 8946, 9044, 11472, 12892, 13747, 28268, 33896, 36602], \"xaxis\": \"x\", \"y\": [\"amp\", \"vaccination\", \"shot\", \"second\", \"today\", \"india\", \"sinovac\", \"bbmp\", \"vaccinated\", \"pfizer\", \"slots\", \"age\", \"got\", \"vaccines\", \"sputnikv\", \"covid\", \"dose\", \"moderna\", \"covaxin\", \"vaccine\"], \"yaxis\": \"y\"}, {\"marker\": {\"color\": \"blue\"}, \"name\": \"Days\", \"orientation\": \"h\", \"text\": [7514.0, 7467.0, 5456.0, 3356.0, 2893.0, 2716.0, 2149.0, 2124.0, 1936.0, 1689.0, 1651.0, 1453.0, 1413.0, 1394.0, 1270.0, 1238.0, 1203.0, 1185.0, 1168.0, 1144.0], \"textposition\": \"outside\", \"type\": \"bar\", \"x\": [1144, 1168, 1185, 1203, 1238, 1270, 1394, 1413, 1453, 1651, 1689, 1936, 2124, 2149, 2716, 2893, 3356, 5456, 7467, 7514], \"xaxis\": \"x2\", \"y\": [\"million doses\", \"pfizerbiontech vaccine\", \"sinopharm vaccine\", \"covid vaccines\", \"hospital bbmp\", \"moderna shot\", \"fully vaccinated\", \"bharat biotech\", \"got dose\", \"dose covaxin\", \"emergency use\", \"dose moderna\", \"sputnikv vaccine\", \"covaxin apollo\", \"second dose\", \"pfizer moderna\", \"moderna vaccine\", \"covid vaccine\", \"age slots\", \"slots covaxin\"], \"yaxis\": \"y2\"}, {\"marker\": {\"color\": \"blue\"}, \"name\": \"Days\", \"orientation\": \"h\", \"text\": [7464.0, 2042.0, 949.0, 856.0, 702.0, 680.0, 641.0, 634.0, 623.0, 580.0, 570.0, 481.0, 467.0, 431.0, 423.0, 416.0, 416.0, 412.0, 411.0, 410.0], \"textposition\": \"outside\", \"type\": \"bar\", \"x\": [410, 411, 412, 416, 416, 423, 431, 467, 481, 570, 580, 623, 634, 641, 680, 702, 856, 949, 2042, 7464], \"xaxis\": \"x3\", \"y\": [\"canada forced stay\", \"covaxin apollo hospital\", \"trudeau toronto ontario\", \"doug ford trudeau\", \"moderna covid vaccine\", \"hospital bg road\", \"second dose covaxin\", \"slots covaxin fortis\", \"reporting cases new\", \"dose moderna vaccine\", \"second dose moderna\", \"moscow russia open\", \"business usual ontario\", \"open business usual\", \"ontario reporting cases\", \"russia open business\", \"apollo jayanagarcovaxin bbmp\", \"covaxin apollo jayanagarcovaxin\", \"slots covaxin apollo\", \"age slots covaxin\"], \"yaxis\": \"y3\"}],                        {\"annotations\": [{\"font\": {\"size\": 16}, \"showarrow\": false, \"text\": \"Unigram\", \"x\": 0.5, \"xanchor\": \"center\", \"xref\": \"paper\", \"y\": 1.0, \"yanchor\": \"bottom\", \"yref\": \"paper\"}, {\"font\": {\"size\": 16}, \"showarrow\": false, \"text\": \"Bigram\", \"x\": 0.5, \"xanchor\": \"center\", \"xref\": \"paper\", \"y\": 0.6111111111111112, \"yanchor\": \"bottom\", \"yref\": \"paper\"}, {\"font\": {\"size\": 16}, \"showarrow\": false, \"text\": \"Trigram\", \"x\": 0.5, \"xanchor\": \"center\", \"xref\": \"paper\", \"y\": 0.22222222222222224, \"yanchor\": \"bottom\", \"yref\": \"paper\"}], \"height\": 1200, \"showlegend\": false, \"template\": {\"data\": {\"bar\": [{\"error_x\": {\"color\": \"#f2f5fa\"}, \"error_y\": {\"color\": \"#f2f5fa\"}, \"marker\": {\"line\": {\"color\": \"rgb(17,17,17)\", \"width\": 0.5}}, \"type\": \"bar\"}], \"barpolar\": [{\"marker\": {\"line\": {\"color\": \"rgb(17,17,17)\", \"width\": 0.5}}, \"type\": \"barpolar\"}], \"carpet\": [{\"aaxis\": {\"endlinecolor\": \"#A2B1C6\", \"gridcolor\": \"#506784\", \"linecolor\": \"#506784\", \"minorgridcolor\": \"#506784\", \"startlinecolor\": \"#A2B1C6\"}, \"baxis\": {\"endlinecolor\": \"#A2B1C6\", \"gridcolor\": \"#506784\", \"linecolor\": \"#506784\", \"minorgridcolor\": \"#506784\", \"startlinecolor\": \"#A2B1C6\"}, \"type\": \"carpet\"}], \"choropleth\": [{\"colorbar\": {\"outlinewidth\": 0, \"ticks\": \"\"}, \"type\": \"choropleth\"}], \"contour\": [{\"colorbar\": {\"outlinewidth\": 0, \"ticks\": \"\"}, \"colorscale\": [[0.0, \"#0d0887\"], [0.1111111111111111, \"#46039f\"], [0.2222222222222222, \"#7201a8\"], [0.3333333333333333, \"#9c179e\"], [0.4444444444444444, \"#bd3786\"], [0.5555555555555556, \"#d8576b\"], [0.6666666666666666, \"#ed7953\"], [0.7777777777777778, \"#fb9f3a\"], [0.8888888888888888, \"#fdca26\"], [1.0, \"#f0f921\"]], \"type\": \"contour\"}], \"contourcarpet\": [{\"colorbar\": {\"outlinewidth\": 0, \"ticks\": \"\"}, \"type\": \"contourcarpet\"}], \"heatmap\": [{\"colorbar\": {\"outlinewidth\": 0, \"ticks\": \"\"}, \"colorscale\": [[0.0, \"#0d0887\"], [0.1111111111111111, \"#46039f\"], [0.2222222222222222, \"#7201a8\"], [0.3333333333333333, \"#9c179e\"], [0.4444444444444444, \"#bd3786\"], [0.5555555555555556, \"#d8576b\"], [0.6666666666666666, \"#ed7953\"], [0.7777777777777778, \"#fb9f3a\"], [0.8888888888888888, \"#fdca26\"], [1.0, \"#f0f921\"]], \"type\": \"heatmap\"}], \"heatmapgl\": [{\"colorbar\": {\"outlinewidth\": 0, \"ticks\": \"\"}, \"colorscale\": [[0.0, \"#0d0887\"], [0.1111111111111111, \"#46039f\"], [0.2222222222222222, \"#7201a8\"], [0.3333333333333333, \"#9c179e\"], [0.4444444444444444, \"#bd3786\"], [0.5555555555555556, \"#d8576b\"], [0.6666666666666666, \"#ed7953\"], [0.7777777777777778, \"#fb9f3a\"], [0.8888888888888888, \"#fdca26\"], [1.0, \"#f0f921\"]], \"type\": \"heatmapgl\"}], \"histogram\": [{\"marker\": {\"colorbar\": {\"outlinewidth\": 0, \"ticks\": \"\"}}, \"type\": \"histogram\"}], \"histogram2d\": [{\"colorbar\": {\"outlinewidth\": 0, \"ticks\": \"\"}, \"colorscale\": [[0.0, \"#0d0887\"], [0.1111111111111111, \"#46039f\"], [0.2222222222222222, \"#7201a8\"], [0.3333333333333333, \"#9c179e\"], [0.4444444444444444, \"#bd3786\"], [0.5555555555555556, \"#d8576b\"], [0.6666666666666666, \"#ed7953\"], [0.7777777777777778, \"#fb9f3a\"], [0.8888888888888888, \"#fdca26\"], [1.0, \"#f0f921\"]], \"type\": \"histogram2d\"}], \"histogram2dcontour\": [{\"colorbar\": {\"outlinewidth\": 0, \"ticks\": \"\"}, \"colorscale\": [[0.0, \"#0d0887\"], [0.1111111111111111, \"#46039f\"], [0.2222222222222222, \"#7201a8\"], [0.3333333333333333, \"#9c179e\"], [0.4444444444444444, \"#bd3786\"], [0.5555555555555556, \"#d8576b\"], [0.6666666666666666, \"#ed7953\"], [0.7777777777777778, \"#fb9f3a\"], [0.8888888888888888, \"#fdca26\"], [1.0, \"#f0f921\"]], \"type\": \"histogram2dcontour\"}], \"mesh3d\": [{\"colorbar\": {\"outlinewidth\": 0, \"ticks\": \"\"}, \"type\": \"mesh3d\"}], \"parcoords\": [{\"line\": {\"colorbar\": {\"outlinewidth\": 0, \"ticks\": \"\"}}, \"type\": \"parcoords\"}], \"pie\": [{\"automargin\": true, \"type\": \"pie\"}], \"scatter\": [{\"marker\": {\"line\": {\"color\": \"#283442\"}}, \"type\": \"scatter\"}], \"scatter3d\": [{\"line\": {\"colorbar\": {\"outlinewidth\": 0, \"ticks\": \"\"}}, \"marker\": {\"colorbar\": {\"outlinewidth\": 0, \"ticks\": \"\"}}, \"type\": \"scatter3d\"}], \"scattercarpet\": [{\"marker\": {\"colorbar\": {\"outlinewidth\": 0, \"ticks\": \"\"}}, \"type\": \"scattercarpet\"}], \"scattergeo\": [{\"marker\": {\"colorbar\": {\"outlinewidth\": 0, \"ticks\": \"\"}}, \"type\": \"scattergeo\"}], \"scattergl\": [{\"marker\": {\"line\": {\"color\": \"#283442\"}}, \"type\": \"scattergl\"}], \"scattermapbox\": [{\"marker\": {\"colorbar\": {\"outlinewidth\": 0, \"ticks\": \"\"}}, \"type\": \"scattermapbox\"}], \"scatterpolar\": [{\"marker\": {\"colorbar\": {\"outlinewidth\": 0, \"ticks\": \"\"}}, \"type\": \"scatterpolar\"}], \"scatterpolargl\": [{\"marker\": {\"colorbar\": {\"outlinewidth\": 0, \"ticks\": \"\"}}, \"type\": \"scatterpolargl\"}], \"scatterternary\": [{\"marker\": {\"colorbar\": {\"outlinewidth\": 0, \"ticks\": \"\"}}, \"type\": \"scatterternary\"}], \"surface\": [{\"colorbar\": {\"outlinewidth\": 0, \"ticks\": \"\"}, \"colorscale\": [[0.0, \"#0d0887\"], [0.1111111111111111, \"#46039f\"], [0.2222222222222222, \"#7201a8\"], [0.3333333333333333, \"#9c179e\"], [0.4444444444444444, \"#bd3786\"], [0.5555555555555556, \"#d8576b\"], [0.6666666666666666, \"#ed7953\"], [0.7777777777777778, \"#fb9f3a\"], [0.8888888888888888, \"#fdca26\"], [1.0, \"#f0f921\"]], \"type\": \"surface\"}], \"table\": [{\"cells\": {\"fill\": {\"color\": \"#506784\"}, \"line\": {\"color\": \"rgb(17,17,17)\"}}, \"header\": {\"fill\": {\"color\": \"#2a3f5f\"}, \"line\": {\"color\": \"rgb(17,17,17)\"}}, \"type\": \"table\"}]}, \"layout\": {\"annotationdefaults\": {\"arrowcolor\": \"#f2f5fa\", \"arrowhead\": 0, \"arrowwidth\": 1}, \"autotypenumbers\": \"strict\", \"coloraxis\": {\"colorbar\": {\"outlinewidth\": 0, \"ticks\": \"\"}}, \"colorscale\": {\"diverging\": [[0, \"#8e0152\"], [0.1, \"#c51b7d\"], [0.2, \"#de77ae\"], [0.3, \"#f1b6da\"], [0.4, \"#fde0ef\"], [0.5, \"#f7f7f7\"], [0.6, \"#e6f5d0\"], [0.7, \"#b8e186\"], [0.8, \"#7fbc41\"], [0.9, \"#4d9221\"], [1, \"#276419\"]], \"sequential\": [[0.0, \"#0d0887\"], [0.1111111111111111, \"#46039f\"], [0.2222222222222222, \"#7201a8\"], [0.3333333333333333, \"#9c179e\"], [0.4444444444444444, \"#bd3786\"], [0.5555555555555556, \"#d8576b\"], [0.6666666666666666, \"#ed7953\"], [0.7777777777777778, \"#fb9f3a\"], [0.8888888888888888, \"#fdca26\"], [1.0, \"#f0f921\"]], \"sequentialminus\": [[0.0, \"#0d0887\"], [0.1111111111111111, \"#46039f\"], [0.2222222222222222, \"#7201a8\"], [0.3333333333333333, \"#9c179e\"], [0.4444444444444444, \"#bd3786\"], [0.5555555555555556, \"#d8576b\"], [0.6666666666666666, \"#ed7953\"], [0.7777777777777778, \"#fb9f3a\"], [0.8888888888888888, \"#fdca26\"], [1.0, \"#f0f921\"]]}, \"colorway\": [\"#636efa\", \"#EF553B\", \"#00cc96\", \"#ab63fa\", \"#FFA15A\", \"#19d3f3\", \"#FF6692\", \"#B6E880\", \"#FF97FF\", \"#FECB52\"], \"font\": {\"color\": \"#f2f5fa\"}, \"geo\": {\"bgcolor\": \"rgb(17,17,17)\", \"lakecolor\": \"rgb(17,17,17)\", \"landcolor\": \"rgb(17,17,17)\", \"showlakes\": true, \"showland\": true, \"subunitcolor\": \"#506784\"}, \"hoverlabel\": {\"align\": \"left\"}, \"hovermode\": \"closest\", \"mapbox\": {\"style\": \"dark\"}, \"paper_bgcolor\": \"rgb(17,17,17)\", \"plot_bgcolor\": \"rgb(17,17,17)\", \"polar\": {\"angularaxis\": {\"gridcolor\": \"#506784\", \"linecolor\": \"#506784\", \"ticks\": \"\"}, \"bgcolor\": \"rgb(17,17,17)\", \"radialaxis\": {\"gridcolor\": \"#506784\", \"linecolor\": \"#506784\", \"ticks\": \"\"}}, \"scene\": {\"xaxis\": {\"backgroundcolor\": \"rgb(17,17,17)\", \"gridcolor\": \"#506784\", \"gridwidth\": 2, \"linecolor\": \"#506784\", \"showbackground\": true, \"ticks\": \"\", \"zerolinecolor\": \"#C8D4E3\"}, \"yaxis\": {\"backgroundcolor\": \"rgb(17,17,17)\", \"gridcolor\": \"#506784\", \"gridwidth\": 2, \"linecolor\": \"#506784\", \"showbackground\": true, \"ticks\": \"\", \"zerolinecolor\": \"#C8D4E3\"}, \"zaxis\": {\"backgroundcolor\": \"rgb(17,17,17)\", \"gridcolor\": \"#506784\", \"gridwidth\": 2, \"linecolor\": \"#506784\", \"showbackground\": true, \"ticks\": \"\", \"zerolinecolor\": \"#C8D4E3\"}}, \"shapedefaults\": {\"line\": {\"color\": \"#f2f5fa\"}}, \"sliderdefaults\": {\"bgcolor\": \"#C8D4E3\", \"bordercolor\": \"rgb(17,17,17)\", \"borderwidth\": 1, \"tickwidth\": 0}, \"ternary\": {\"aaxis\": {\"gridcolor\": \"#506784\", \"linecolor\": \"#506784\", \"ticks\": \"\"}, \"baxis\": {\"gridcolor\": \"#506784\", \"linecolor\": \"#506784\", \"ticks\": \"\"}, \"bgcolor\": \"rgb(17,17,17)\", \"caxis\": {\"gridcolor\": \"#506784\", \"linecolor\": \"#506784\", \"ticks\": \"\"}}, \"title\": {\"x\": 0.05}, \"updatemenudefaults\": {\"bgcolor\": \"#506784\", \"borderwidth\": 0}, \"xaxis\": {\"automargin\": true, \"gridcolor\": \"#283442\", \"linecolor\": \"#506784\", \"ticks\": \"\", \"title\": {\"standoff\": 15}, \"zerolinecolor\": \"#283442\", \"zerolinewidth\": 2}, \"yaxis\": {\"automargin\": true, \"gridcolor\": \"#283442\", \"linecolor\": \"#506784\", \"ticks\": \"\", \"title\": {\"standoff\": 15}, \"zerolinecolor\": \"#283442\", \"zerolinewidth\": 2}}}, \"title\": {\"text\": \"Top N Grams\", \"x\": 0.5}, \"xaxis\": {\"anchor\": \"y\", \"domain\": [0.0, 1.0], \"linecolor\": \"black\", \"linewidth\": 2, \"mirror\": true, \"showline\": true, \"title\": {\"text\": \" \"}}, \"xaxis2\": {\"anchor\": \"y2\", \"domain\": [0.0, 1.0], \"linecolor\": \"black\", \"linewidth\": 2, \"mirror\": true, \"showline\": true}, \"xaxis3\": {\"anchor\": \"y3\", \"domain\": [0.0, 1.0], \"linecolor\": \"black\", \"linewidth\": 2, \"mirror\": true, \"showline\": true}, \"yaxis\": {\"anchor\": \"x\", \"domain\": [0.7777777777777778, 1.0], \"linecolor\": \"black\", \"linewidth\": 2, \"mirror\": true, \"showline\": true, \"title\": {\"text\": \" \"}}, \"yaxis2\": {\"anchor\": \"x2\", \"domain\": [0.3888888888888889, 0.6111111111111112], \"linecolor\": \"black\", \"linewidth\": 2, \"mirror\": true, \"showline\": true}, \"yaxis3\": {\"anchor\": \"x3\", \"domain\": [0.0, 0.22222222222222224], \"linecolor\": \"black\", \"linewidth\": 2, \"mirror\": true, \"showline\": true}},                        {\"responsive\": true}                    ).then(function(){\n",
       "                            \n",
       "var gd = document.getElementById('6080b08b-4551-4c45-9671-1ada1384d333');\n",
       "var x = new MutationObserver(function (mutations, observer) {{\n",
       "        var display = window.getComputedStyle(gd).display;\n",
       "        if (!display || display === 'none') {{\n",
       "            console.log([gd, 'removed!']);\n",
       "            Plotly.purge(gd);\n",
       "            observer.disconnect();\n",
       "        }}\n",
       "}});\n",
       "\n",
       "// Listen for the removal of the full notebook cells\n",
       "var notebookContainer = gd.closest('#notebook-container');\n",
       "if (notebookContainer) {{\n",
       "    x.observe(notebookContainer, {childList: true});\n",
       "}}\n",
       "\n",
       "// Listen for the clearing of the current output cell\n",
       "var outputEl = gd.closest('.output');\n",
       "if (outputEl) {{\n",
       "    x.observe(outputEl, {childList: true});\n",
       "}}\n",
       "\n",
       "                        })                };                });            </script>        </div>"
      ]
     },
     "metadata": {},
     "output_type": "display_data"
    }
   ],
   "source": [
    "def ngram_df(corpus,nrange,n=None):\n",
    "    vec = CountVectorizer(stop_words = 'english',ngram_range=nrange).fit(corpus)\n",
    "    bag_of_words = vec.transform(corpus)\n",
    "    sum_words = bag_of_words.sum(axis=0) \n",
    "    words_freq = [(word, sum_words[0, idx]) for word, idx in vec.vocabulary_.items()]\n",
    "    words_freq =sorted(words_freq, key = lambda x: x[1], reverse=True)\n",
    "    total_list=words_freq[:n]\n",
    "    df=pd.DataFrame(total_list,columns=['text','count'])\n",
    "    return df\n",
    "unigram_df=ngram_df(df['text'],(1,1),20)\n",
    "bigram_df=ngram_df(df['text'],(2,2),20)\n",
    "trigram_df=ngram_df(df['text'],(3,3),20)\n",
    "fig = make_subplots(\n",
    "    rows=3, cols=1,subplot_titles=(\"Unigram\",\"Bigram\",'Trigram'),\n",
    "    specs=[[{\"type\": \"scatter\"}],\n",
    "           [{\"type\": \"scatter\"}],\n",
    "           [{\"type\": \"scatter\"}]\n",
    "          ])\n",
    "\n",
    "fig.add_trace(go.Bar(\n",
    "    y=unigram_df['text'][::-1],\n",
    "    x=unigram_df['count'][::-1],\n",
    "    marker={'color': \"blue\"},  \n",
    "    text=unigram_df['count'],\n",
    "    textposition = \"outside\",\n",
    "    orientation=\"h\",\n",
    "    name=\"Months\",\n",
    "),row=1,col=1)\n",
    "\n",
    "fig.add_trace(go.Bar(\n",
    "    y=bigram_df['text'][::-1],\n",
    "    x=bigram_df['count'][::-1],\n",
    "    marker={'color': \"blue\"},  \n",
    "    text=bigram_df['count'],\n",
    "     name=\"Days\",\n",
    "    textposition = \"outside\",\n",
    "    orientation=\"h\",\n",
    "),row=2,col=1)\n",
    "\n",
    "fig.add_trace(go.Bar(\n",
    "    y=trigram_df['text'][::-1],\n",
    "    x=trigram_df['count'][::-1],\n",
    "    marker={'color': \"blue\"},  \n",
    "    text=trigram_df['count'],\n",
    "     name=\"Days\",\n",
    "    orientation=\"h\",\n",
    "    textposition = \"outside\",\n",
    "),row=3,col=1)\n",
    "\n",
    "fig.update_xaxes(showline=True, linewidth=2, linecolor='black', mirror=True)\n",
    "fig.update_yaxes(showline=True, linewidth=2, linecolor='black', mirror=True)\n",
    "fig.update_layout(title_text='Top N Grams',xaxis_title=\" \",yaxis_title=\" \",\n",
    "                  showlegend=False,title_x=0.5,height=1200,template=\"plotly_dark\")\n",
    "fig.show()"
   ]
  },
  {
   "cell_type": "code",
   "execution_count": 25,
   "id": "broke-tobago",
   "metadata": {
    "execution": {
     "iopub.execute_input": "2021-07-02T22:04:58.336726Z",
     "iopub.status.busy": "2021-07-02T22:04:58.335697Z",
     "iopub.status.idle": "2021-07-02T22:04:58.445343Z",
     "shell.execute_reply": "2021-07-02T22:04:58.444542Z",
     "shell.execute_reply.started": "2021-07-02T21:22:32.497027Z"
    },
    "papermill": {
     "duration": 0.193376,
     "end_time": "2021-07-02T22:04:58.445496",
     "exception": false,
     "start_time": "2021-07-02T22:04:58.252120",
     "status": "completed"
    },
    "tags": []
   },
   "outputs": [],
   "source": [
    "Positive_tweet = data[data['sentiment']=='Positive'].reset_index()\n",
    "Negative_tweet = data[data['sentiment']=='Negative'].reset_index()\n",
    "Neutral_tweet = data[data['sentiment']=='Neutral'].reset_index()"
   ]
  },
  {
   "cell_type": "code",
   "execution_count": 26,
   "id": "amino-passing",
   "metadata": {
    "execution": {
     "iopub.execute_input": "2021-07-02T22:04:58.587008Z",
     "iopub.status.busy": "2021-07-02T22:04:58.585975Z",
     "iopub.status.idle": "2021-07-02T22:04:58.590702Z",
     "shell.execute_reply": "2021-07-02T22:04:58.590154Z",
     "shell.execute_reply.started": "2021-07-02T21:22:32.640715Z"
    },
    "papermill": {
     "duration": 0.086136,
     "end_time": "2021-07-02T22:04:58.590856",
     "exception": false,
     "start_time": "2021-07-02T22:04:58.504720",
     "status": "completed"
    },
    "tags": []
   },
   "outputs": [
    {
     "data": {
      "text/html": [
       "<div>\n",
       "<style scoped>\n",
       "    .dataframe tbody tr th:only-of-type {\n",
       "        vertical-align: middle;\n",
       "    }\n",
       "\n",
       "    .dataframe tbody tr th {\n",
       "        vertical-align: top;\n",
       "    }\n",
       "\n",
       "    .dataframe thead th {\n",
       "        text-align: right;\n",
       "    }\n",
       "</style>\n",
       "<table border=\"1\" class=\"dataframe\">\n",
       "  <thead>\n",
       "    <tr style=\"text-align: right;\">\n",
       "      <th></th>\n",
       "      <th>index</th>\n",
       "      <th>id</th>\n",
       "      <th>user_name</th>\n",
       "      <th>user_location</th>\n",
       "      <th>user_description</th>\n",
       "      <th>user_created</th>\n",
       "      <th>user_followers</th>\n",
       "      <th>user_friends</th>\n",
       "      <th>user_favourites</th>\n",
       "      <th>user_verified</th>\n",
       "      <th>date</th>\n",
       "      <th>text</th>\n",
       "      <th>hashtags</th>\n",
       "      <th>source</th>\n",
       "      <th>retweets</th>\n",
       "      <th>favorites</th>\n",
       "      <th>is_retweet</th>\n",
       "      <th>sentiment</th>\n",
       "    </tr>\n",
       "  </thead>\n",
       "  <tbody>\n",
       "    <tr>\n",
       "      <th>0</th>\n",
       "      <td>0</td>\n",
       "      <td>1340539111971516416</td>\n",
       "      <td>Rachel Roh</td>\n",
       "      <td>La Crescenta-Montrose, CA</td>\n",
       "      <td>Aggregator of Asian American news; scanning di...</td>\n",
       "      <td>2009-04-08 17:52:46</td>\n",
       "      <td>405</td>\n",
       "      <td>1692</td>\n",
       "      <td>3247</td>\n",
       "      <td>False</td>\n",
       "      <td>2020-12-20 06:06:44</td>\n",
       "      <td>same folks said daikon paste could treat a cyt...</td>\n",
       "      <td>['PfizerBioNTech']</td>\n",
       "      <td>Twitter for Android</td>\n",
       "      <td>0</td>\n",
       "      <td>0</td>\n",
       "      <td>False</td>\n",
       "      <td>Positive</td>\n",
       "    </tr>\n",
       "    <tr>\n",
       "      <th>1</th>\n",
       "      <td>2</td>\n",
       "      <td>1337858199140118533</td>\n",
       "      <td>eli🇱🇹🇪🇺👌</td>\n",
       "      <td>Your Bed</td>\n",
       "      <td>heil, hydra 🖐☺</td>\n",
       "      <td>2020-06-25 23:30:28</td>\n",
       "      <td>10</td>\n",
       "      <td>88</td>\n",
       "      <td>155</td>\n",
       "      <td>False</td>\n",
       "      <td>2020-12-12 20:33:45</td>\n",
       "      <td>coronavirus sputnikv astrazeneca pfizerbiontec...</td>\n",
       "      <td>['coronavirus', 'SputnikV', 'AstraZeneca', 'Pf...</td>\n",
       "      <td>Twitter for Android</td>\n",
       "      <td>0</td>\n",
       "      <td>0</td>\n",
       "      <td>False</td>\n",
       "      <td>Positive</td>\n",
       "    </tr>\n",
       "    <tr>\n",
       "      <th>2</th>\n",
       "      <td>5</td>\n",
       "      <td>1337852648389832708</td>\n",
       "      <td>Dee</td>\n",
       "      <td>Birmingham, England</td>\n",
       "      <td>Gastroenterology trainee, Clinical Research Fe...</td>\n",
       "      <td>2020-01-26 21:43:12</td>\n",
       "      <td>105</td>\n",
       "      <td>108</td>\n",
       "      <td>106</td>\n",
       "      <td>False</td>\n",
       "      <td>2020-12-12 20:11:42</td>\n",
       "      <td>does anyone have any useful adviceguidance for...</td>\n",
       "      <td>NaN</td>\n",
       "      <td>Twitter for iPhone</td>\n",
       "      <td>0</td>\n",
       "      <td>0</td>\n",
       "      <td>False</td>\n",
       "      <td>Positive</td>\n",
       "    </tr>\n",
       "    <tr>\n",
       "      <th>3</th>\n",
       "      <td>6</td>\n",
       "      <td>1337851215875608579</td>\n",
       "      <td>Gunther Fehlinger</td>\n",
       "      <td>Austria, Ukraine and Kosovo</td>\n",
       "      <td>End North Stream 2 now - the pipeline of corru...</td>\n",
       "      <td>2013-06-10 17:49:22</td>\n",
       "      <td>2731</td>\n",
       "      <td>5001</td>\n",
       "      <td>69344</td>\n",
       "      <td>False</td>\n",
       "      <td>2020-12-12 20:06:00</td>\n",
       "      <td>it is a bit sad to claim the fame for success ...</td>\n",
       "      <td>['vaccination']</td>\n",
       "      <td>Twitter Web App</td>\n",
       "      <td>0</td>\n",
       "      <td>4</td>\n",
       "      <td>False</td>\n",
       "      <td>Positive</td>\n",
       "    </tr>\n",
       "    <tr>\n",
       "      <th>4</th>\n",
       "      <td>7</td>\n",
       "      <td>1337850832256176136</td>\n",
       "      <td>Dr.Krutika Kuppalli</td>\n",
       "      <td>NaN</td>\n",
       "      <td>ID, Global Health, VHF, Pandemic Prep, Emergin...</td>\n",
       "      <td>2019-03-25 04:14:29</td>\n",
       "      <td>21924</td>\n",
       "      <td>593</td>\n",
       "      <td>7815</td>\n",
       "      <td>True</td>\n",
       "      <td>2020-12-12 20:04:29</td>\n",
       "      <td>there have not been many bright days in  but h...</td>\n",
       "      <td>['BidenHarris', 'Election2020']</td>\n",
       "      <td>Twitter for iPhone</td>\n",
       "      <td>2</td>\n",
       "      <td>22</td>\n",
       "      <td>False</td>\n",
       "      <td>Positive</td>\n",
       "    </tr>\n",
       "  </tbody>\n",
       "</table>\n",
       "</div>"
      ],
      "text/plain": [
       "   index                   id            user_name  \\\n",
       "0      0  1340539111971516416           Rachel Roh   \n",
       "1      2  1337858199140118533             eli🇱🇹🇪🇺👌   \n",
       "2      5  1337852648389832708                  Dee   \n",
       "3      6  1337851215875608579    Gunther Fehlinger   \n",
       "4      7  1337850832256176136  Dr.Krutika Kuppalli   \n",
       "\n",
       "                 user_location  \\\n",
       "0    La Crescenta-Montrose, CA   \n",
       "1                     Your Bed   \n",
       "2          Birmingham, England   \n",
       "3  Austria, Ukraine and Kosovo   \n",
       "4                          NaN   \n",
       "\n",
       "                                    user_description         user_created  \\\n",
       "0  Aggregator of Asian American news; scanning di...  2009-04-08 17:52:46   \n",
       "1                                     heil, hydra 🖐☺  2020-06-25 23:30:28   \n",
       "2  Gastroenterology trainee, Clinical Research Fe...  2020-01-26 21:43:12   \n",
       "3  End North Stream 2 now - the pipeline of corru...  2013-06-10 17:49:22   \n",
       "4  ID, Global Health, VHF, Pandemic Prep, Emergin...  2019-03-25 04:14:29   \n",
       "\n",
       "   user_followers  user_friends  user_favourites  user_verified  \\\n",
       "0             405          1692             3247          False   \n",
       "1              10            88              155          False   \n",
       "2             105           108              106          False   \n",
       "3            2731          5001            69344          False   \n",
       "4           21924           593             7815           True   \n",
       "\n",
       "                  date                                               text  \\\n",
       "0  2020-12-20 06:06:44  same folks said daikon paste could treat a cyt...   \n",
       "1  2020-12-12 20:33:45  coronavirus sputnikv astrazeneca pfizerbiontec...   \n",
       "2  2020-12-12 20:11:42  does anyone have any useful adviceguidance for...   \n",
       "3  2020-12-12 20:06:00  it is a bit sad to claim the fame for success ...   \n",
       "4  2020-12-12 20:04:29  there have not been many bright days in  but h...   \n",
       "\n",
       "                                            hashtags               source  \\\n",
       "0                                 ['PfizerBioNTech']  Twitter for Android   \n",
       "1  ['coronavirus', 'SputnikV', 'AstraZeneca', 'Pf...  Twitter for Android   \n",
       "2                                                NaN   Twitter for iPhone   \n",
       "3                                    ['vaccination']      Twitter Web App   \n",
       "4                    ['BidenHarris', 'Election2020']   Twitter for iPhone   \n",
       "\n",
       "   retweets  favorites  is_retweet sentiment  \n",
       "0         0          0       False  Positive  \n",
       "1         0          0       False  Positive  \n",
       "2         0          0       False  Positive  \n",
       "3         0          4       False  Positive  \n",
       "4         2         22       False  Positive  "
      ]
     },
     "execution_count": 26,
     "metadata": {},
     "output_type": "execute_result"
    }
   ],
   "source": [
    "Positive_tweet.head()"
   ]
  },
  {
   "cell_type": "code",
   "execution_count": 27,
   "id": "liquid-fiber",
   "metadata": {
    "execution": {
     "iopub.execute_input": "2021-07-02T22:04:58.716249Z",
     "iopub.status.busy": "2021-07-02T22:04:58.715240Z",
     "iopub.status.idle": "2021-07-02T22:04:58.717544Z",
     "shell.execute_reply": "2021-07-02T22:04:58.718042Z",
     "shell.execute_reply.started": "2021-07-02T21:22:32.665307Z"
    },
    "papermill": {
     "duration": 0.067355,
     "end_time": "2021-07-02T22:04:58.718220",
     "exception": false,
     "start_time": "2021-07-02T22:04:58.650865",
     "status": "completed"
    },
    "tags": []
   },
   "outputs": [],
   "source": [
    "import unicodedata"
   ]
  },
  {
   "cell_type": "code",
   "execution_count": 28,
   "id": "informal-tennessee",
   "metadata": {
    "execution": {
     "iopub.execute_input": "2021-07-02T22:04:58.842013Z",
     "iopub.status.busy": "2021-07-02T22:04:58.841383Z",
     "iopub.status.idle": "2021-07-02T22:04:58.846828Z",
     "shell.execute_reply": "2021-07-02T22:04:58.847341Z",
     "shell.execute_reply.started": "2021-07-02T21:22:32.677069Z"
    },
    "papermill": {
     "duration": 0.068396,
     "end_time": "2021-07-02T22:04:58.847513",
     "exception": false,
     "start_time": "2021-07-02T22:04:58.779117",
     "status": "completed"
    },
    "tags": []
   },
   "outputs": [],
   "source": [
    "def basic_clean(text):\n",
    "  wnl = nltk.stem.WordNetLemmatizer()\n",
    "  stopwords = nltk.corpus.stopwords.words('english') \n",
    "  text = (unicodedata.normalize('NFKD', text)\n",
    "    .encode('ascii', 'ignore')\n",
    "    .decode('utf-8', 'ignore')\n",
    "    .lower())\n",
    "  words = re.sub(r'[^\\w\\s]', '', text).split()\n",
    "  return [wnl.lemmatize(word) for word in words if word not in stopwords]"
   ]
  },
  {
   "cell_type": "code",
   "execution_count": 29,
   "id": "level-tutorial",
   "metadata": {
    "execution": {
     "iopub.execute_input": "2021-07-02T22:04:58.971482Z",
     "iopub.status.busy": "2021-07-02T22:04:58.970816Z",
     "iopub.status.idle": "2021-07-02T22:05:02.697703Z",
     "shell.execute_reply": "2021-07-02T22:05:02.697171Z",
     "shell.execute_reply.started": "2021-07-02T21:22:32.694794Z"
    },
    "papermill": {
     "duration": 3.789646,
     "end_time": "2021-07-02T22:05:02.697849",
     "exception": false,
     "start_time": "2021-07-02T22:04:58.908203",
     "status": "completed"
    },
    "tags": []
   },
   "outputs": [],
   "source": [
    "words = basic_clean(''.join(str(Positive_tweet['text'].tolist())))"
   ]
  },
  {
   "cell_type": "code",
   "execution_count": 30,
   "id": "separated-marketing",
   "metadata": {
    "execution": {
     "iopub.execute_input": "2021-07-02T22:05:02.830963Z",
     "iopub.status.busy": "2021-07-02T22:05:02.830049Z",
     "iopub.status.idle": "2021-07-02T22:05:02.834348Z",
     "shell.execute_reply": "2021-07-02T22:05:02.833751Z",
     "shell.execute_reply.started": "2021-07-02T21:22:36.851019Z"
    },
    "papermill": {
     "duration": 0.076618,
     "end_time": "2021-07-02T22:05:02.834485",
     "exception": false,
     "start_time": "2021-07-02T22:05:02.757867",
     "status": "completed"
    },
    "tags": []
   },
   "outputs": [
    {
     "name": "stdout",
     "output_type": "stream",
     "text": [
      "42186\n"
     ]
    }
   ],
   "source": [
    "print (Positive_tweet['text'].count())"
   ]
  },
  {
   "cell_type": "code",
   "execution_count": 31,
   "id": "unauthorized-metabolism",
   "metadata": {
    "execution": {
     "iopub.execute_input": "2021-07-02T22:05:02.958516Z",
     "iopub.status.busy": "2021-07-02T22:05:02.957872Z",
     "iopub.status.idle": "2021-07-02T22:05:03.937869Z",
     "shell.execute_reply": "2021-07-02T22:05:03.937233Z",
     "shell.execute_reply.started": "2021-07-02T21:22:36.875395Z"
    },
    "papermill": {
     "duration": 1.042869,
     "end_time": "2021-07-02T22:05:03.938003",
     "exception": false,
     "start_time": "2021-07-02T22:05:02.895134",
     "status": "completed"
    },
    "tags": []
   },
   "outputs": [
    {
     "data": {
      "text/plain": [
       "Text(0.5, 0, '# of Occurances')"
      ]
     },
     "execution_count": 31,
     "metadata": {},
     "output_type": "execute_result"
    },
    {
     "data": {
      "image/png": "[encoded data removed]",
      "text/plain": [
       "<Figure size 864x576 with 1 Axes>"
      ]
     },
     "metadata": {
      "needs_background": "light"
     },
     "output_type": "display_data"
    }
   ],
   "source": [
    "unigrams_series =(pd.Series(nltk.ngrams(words, 1)).value_counts())[:30]\n",
    "unigrams_series.sort_values().plot.barh(color='blue', width=.9, figsize=(12, 8))\n",
    "plt.title('30 Most Frequently Occuring unigrams')\n",
    "plt.ylabel('Unigram')\n",
    "plt.xlabel('# of Occurances')\n",
    "\n"
   ]
  },
  {
   "cell_type": "code",
   "execution_count": 32,
   "id": "interesting-argentina",
   "metadata": {
    "execution": {
     "iopub.execute_input": "2021-07-02T22:05:04.073908Z",
     "iopub.status.busy": "2021-07-02T22:05:04.073017Z",
     "iopub.status.idle": "2021-07-02T22:05:04.076654Z",
     "shell.execute_reply": "2021-07-02T22:05:04.077148Z",
     "shell.execute_reply.started": "2021-07-02T21:22:37.901983Z"
    },
    "papermill": {
     "duration": 0.076912,
     "end_time": "2021-07-02T22:05:04.077364",
     "exception": false,
     "start_time": "2021-07-02T22:05:04.000452",
     "status": "completed"
    },
    "tags": []
   },
   "outputs": [
    {
     "name": "stdout",
     "output_type": "stream",
     "text": [
      "(vaccine,)           16062\n",
      "(moderna,)           10149\n",
      "(covaxin,)            8776\n",
      "(covid,)              4568\n",
      "(dose,)               4458\n",
      "(sputnikv,)           3927\n",
      "(got,)                3554\n",
      "(first,)              3341\n",
      "(get,)                2971\n",
      "(today,)              2885\n",
      "(vaccinated,)         2831\n",
      "(india,)              2774\n",
      "(shot,)               2692\n",
      "(pfizer,)             2572\n",
      "(amp,)                2423\n",
      "(second,)             2249\n",
      "(thank,)              2245\n",
      "(vaccination,)        2154\n",
      "(like,)               2112\n",
      "(pfizerbiontech,)     2101\n",
      "(sinovac,)            2084\n",
      "(effective,)          2029\n",
      "(good,)               1941\n",
      "(approved,)           1893\n",
      "(covidvaccine,)       1675\n",
      "(u,)                  1594\n",
      "(one,)                1579\n",
      "(im,)                 1547\n",
      "(people,)             1535\n",
      "(thanks,)             1526\n",
      "dtype: int64\n"
     ]
    }
   ],
   "source": [
    "print (unigrams_series)\n"
   ]
  },
  {
   "cell_type": "code",
   "execution_count": 33,
   "id": "detailed-julian",
   "metadata": {
    "execution": {
     "iopub.execute_input": "2021-07-02T22:05:04.228381Z",
     "iopub.status.busy": "2021-07-02T22:05:04.227361Z",
     "iopub.status.idle": "2021-07-02T22:05:04.362257Z",
     "shell.execute_reply": "2021-07-02T22:05:04.361739Z",
     "shell.execute_reply.started": "2021-07-02T21:22:37.914394Z"
    },
    "papermill": {
     "duration": 0.221827,
     "end_time": "2021-07-02T22:05:04.362419",
     "exception": false,
     "start_time": "2021-07-02T22:05:04.140592",
     "status": "completed"
    },
    "tags": []
   },
   "outputs": [
    {
     "data": {
      "image/png": "[encoded data removed]",
      "text/plain": [
       "<Figure size 432x288 with 1 Axes>"
      ]
     },
     "metadata": {
      "needs_background": "light"
     },
     "output_type": "display_data"
    }
   ],
   "source": [
    "unigrams_series.plot()\n",
    "plt.show()"
   ]
  },
  {
   "cell_type": "code",
   "execution_count": 34,
   "id": "renewable-miracle",
   "metadata": {
    "execution": {
     "iopub.execute_input": "2021-07-02T22:05:04.513909Z",
     "iopub.status.busy": "2021-07-02T22:05:04.498450Z",
     "iopub.status.idle": "2021-07-02T22:05:05.779773Z",
     "shell.execute_reply": "2021-07-02T22:05:05.779106Z",
     "shell.execute_reply.started": "2021-07-02T21:22:38.092860Z"
    },
    "papermill": {
     "duration": 1.352813,
     "end_time": "2021-07-02T22:05:05.779915",
     "exception": false,
     "start_time": "2021-07-02T22:05:04.427102",
     "status": "completed"
    },
    "tags": []
   },
   "outputs": [
    {
     "data": {
      "text/plain": [
       "Text(0.5, 0, '# of Occurances')"
      ]
     },
     "execution_count": 34,
     "metadata": {},
     "output_type": "execute_result"
    },
    {
     "data": {
      "image/png": "[encoded data removed]",
      "text/plain": [
       "<Figure size 864x576 with 1 Axes>"
      ]
     },
     "metadata": {
      "needs_background": "light"
     },
     "output_type": "display_data"
    }
   ],
   "source": [
    "bigrams_series =(pd.Series(nltk.ngrams(words, 2)).value_counts())[:30]\n",
    "bigrams_series.sort_values().plot.barh(color='blue', width=.9, figsize=(12, 8))\n",
    "plt.title('30 Most Frequently Occuring Bigrams')\n",
    "plt.ylabel('Bigram')\n",
    "plt.xlabel('# of Occurances')\n"
   ]
  },
  {
   "cell_type": "code",
   "execution_count": 35,
   "id": "gothic-territory",
   "metadata": {
    "execution": {
     "iopub.execute_input": "2021-07-02T22:05:05.926561Z",
     "iopub.status.busy": "2021-07-02T22:05:05.921213Z",
     "iopub.status.idle": "2021-07-02T22:05:07.379047Z",
     "shell.execute_reply": "2021-07-02T22:05:07.379792Z",
     "shell.execute_reply.started": "2021-07-02T21:22:39.477279Z"
    },
    "papermill": {
     "duration": 1.532807,
     "end_time": "2021-07-02T22:05:07.380033",
     "exception": false,
     "start_time": "2021-07-02T22:05:05.847226",
     "status": "completed"
    },
    "tags": []
   },
   "outputs": [
    {
     "data": {
      "text/plain": [
       "Text(0.5, 0, '# of Occurances')"
      ]
     },
     "execution_count": 35,
     "metadata": {},
     "output_type": "execute_result"
    },
    {
     "data": {
      "image/png": "[encoded data removed]",
      "text/plain": [
       "<Figure size 864x576 with 1 Axes>"
      ]
     },
     "metadata": {
      "needs_background": "light"
     },
     "output_type": "display_data"
    }
   ],
   "source": [
    "trigrams_series =(pd.Series(nltk.ngrams(words, 3)).value_counts())[:30]\n",
    "trigrams_series.sort_values().plot.barh(color='blue', width=.9, figsize=(12, 8))\n",
    "plt.title('30 Most Frequently Occuring Trigrams')\n",
    "plt.ylabel('trigram')\n",
    "plt.xlabel('# of Occurances')"
   ]
  },
  {
   "cell_type": "code",
   "execution_count": 36,
   "id": "solved-infrared",
   "metadata": {
    "execution": {
     "iopub.execute_input": "2021-07-02T22:05:07.609222Z",
     "iopub.status.busy": "2021-07-02T22:05:07.608267Z",
     "iopub.status.idle": "2021-07-02T22:05:09.495036Z",
     "shell.execute_reply": "2021-07-02T22:05:09.494378Z",
     "shell.execute_reply.started": "2021-07-02T21:22:40.950121Z"
    },
    "papermill": {
     "duration": 2.040594,
     "end_time": "2021-07-02T22:05:09.495173",
     "exception": false,
     "start_time": "2021-07-02T22:05:07.454579",
     "status": "completed"
    },
    "tags": []
   },
   "outputs": [],
   "source": [
    "nwords = basic_clean(''.join(str(Negative_tweet['text'].tolist())))"
   ]
  },
  {
   "cell_type": "code",
   "execution_count": 37,
   "id": "loved-complaint",
   "metadata": {
    "execution": {
     "iopub.execute_input": "2021-07-02T22:05:09.693977Z",
     "iopub.status.busy": "2021-07-02T22:05:09.657812Z",
     "iopub.status.idle": "2021-07-02T22:05:10.322026Z",
     "shell.execute_reply": "2021-07-02T22:05:10.321529Z",
     "shell.execute_reply.started": "2021-07-02T21:22:43.148649Z"
    },
    "papermill": {
     "duration": 0.757905,
     "end_time": "2021-07-02T22:05:10.322165",
     "exception": false,
     "start_time": "2021-07-02T22:05:09.564260",
     "status": "completed"
    },
    "tags": []
   },
   "outputs": [
    {
     "data": {
      "text/plain": [
       "Text(0.5, 0, '# of Occurances')"
      ]
     },
     "execution_count": 37,
     "metadata": {},
     "output_type": "execute_result"
    },
    {
     "data": {
      "image/png": "[encoded data removed]",
      "text/plain": [
       "<Figure size 864x576 with 1 Axes>"
      ]
     },
     "metadata": {
      "needs_background": "light"
     },
     "output_type": "display_data"
    }
   ],
   "source": [
    "unigrams_nseries =(pd.Series(nltk.ngrams(nwords, 1)).value_counts())[:30]\n",
    "unigrams_nseries.sort_values().plot.barh(color='blue', width=.9, figsize=(12, 8))\n",
    "plt.title('30 Most Frequently Occuring unigrams')\n",
    "plt.ylabel('unigram')\n",
    "plt.xlabel('# of Occurances')"
   ]
  },
  {
   "cell_type": "code",
   "execution_count": 38,
   "id": "eleven-gambling",
   "metadata": {
    "execution": {
     "iopub.execute_input": "2021-07-02T22:05:10.466930Z",
     "iopub.status.busy": "2021-07-02T22:05:10.466288Z",
     "iopub.status.idle": "2021-07-02T22:05:11.297417Z",
     "shell.execute_reply": "2021-07-02T22:05:11.297936Z",
     "shell.execute_reply.started": "2021-07-02T21:22:43.856998Z"
    },
    "papermill": {
     "duration": 0.906235,
     "end_time": "2021-07-02T22:05:11.298104",
     "exception": false,
     "start_time": "2021-07-02T22:05:10.391869",
     "status": "completed"
    },
    "tags": []
   },
   "outputs": [
    {
     "data": {
      "text/plain": [
       "Text(0.5, 0, '# of Occurances')"
      ]
     },
     "execution_count": 38,
     "metadata": {},
     "output_type": "execute_result"
    },
    {
     "data": {
      "image/png": "[encoded data removed]",
      "text/plain": [
       "<Figure size 864x576 with 1 Axes>"
      ]
     },
     "metadata": {
      "needs_background": "light"
     },
     "output_type": "display_data"
    }
   ],
   "source": [
    "bigrams_nseries =(pd.Series(nltk.ngrams(nwords, 2)).value_counts())[:30]\n",
    "bigrams_nseries.sort_values().plot.barh(color='blue', width=.9, figsize=(12, 8))\n",
    "plt.title('30 Most Frequently Occuring Bigrams')\n",
    "plt.ylabel('Bigram')\n",
    "plt.xlabel('# of Occurances')\n"
   ]
  },
  {
   "cell_type": "code",
   "execution_count": 39,
   "id": "solar-subcommittee",
   "metadata": {
    "execution": {
     "iopub.execute_input": "2021-07-02T22:05:11.445841Z",
     "iopub.status.busy": "2021-07-02T22:05:11.445171Z",
     "iopub.status.idle": "2021-07-02T22:05:12.260984Z",
     "shell.execute_reply": "2021-07-02T22:05:12.261505Z",
     "shell.execute_reply.started": "2021-07-02T21:22:44.728987Z"
    },
    "papermill": {
     "duration": 0.891311,
     "end_time": "2021-07-02T22:05:12.261678",
     "exception": false,
     "start_time": "2021-07-02T22:05:11.370367",
     "status": "completed"
    },
    "tags": []
   },
   "outputs": [
    {
     "data": {
      "text/plain": [
       "Text(0.5, 0, '# of Occurances')"
      ]
     },
     "execution_count": 39,
     "metadata": {},
     "output_type": "execute_result"
    },
    {
     "data": {
      "image/png": "[encoded data removed]",
      "text/plain": [
       "<Figure size 864x576 with 1 Axes>"
      ]
     },
     "metadata": {
      "needs_background": "light"
     },
     "output_type": "display_data"
    }
   ],
   "source": [
    "trigrams_nseries =(pd.Series(nltk.ngrams(nwords, 3)).value_counts())[:20]\n",
    "trigrams_nseries.sort_values().plot.barh(color='blue', width=.9, figsize=(12, 8))\n",
    "plt.title('20 Most Frequently Occuring trigrams')\n",
    "plt.ylabel('trigram')\n",
    "plt.xlabel('# of Occurances')"
   ]
  },
  {
   "cell_type": "code",
   "execution_count": 40,
   "id": "sustainable-disabled",
   "metadata": {
    "execution": {
     "iopub.execute_input": "2021-07-02T22:05:12.620523Z",
     "iopub.status.busy": "2021-07-02T22:05:12.619550Z",
     "iopub.status.idle": "2021-07-02T22:05:17.109748Z",
     "shell.execute_reply": "2021-07-02T22:05:17.109017Z",
     "shell.execute_reply.started": "2021-07-02T21:22:45.584989Z"
    },
    "papermill": {
     "duration": 4.774478,
     "end_time": "2021-07-02T22:05:17.109904",
     "exception": false,
     "start_time": "2021-07-02T22:05:12.335426",
     "status": "completed"
    },
    "tags": []
   },
   "outputs": [],
   "source": [
    "neuwords = basic_clean(''.join(str(Neutral_tweet['text'].tolist())))"
   ]
  },
  {
   "cell_type": "code",
   "execution_count": 41,
   "id": "mysterious-africa",
   "metadata": {
    "execution": {
     "iopub.execute_input": "2021-07-02T22:05:17.311663Z",
     "iopub.status.busy": "2021-07-02T22:05:17.306599Z",
     "iopub.status.idle": "2021-07-02T22:05:18.368691Z",
     "shell.execute_reply": "2021-07-02T22:05:18.368149Z",
     "shell.execute_reply.started": "2021-07-02T21:22:50.989203Z"
    },
    "papermill": {
     "duration": 1.184417,
     "end_time": "2021-07-02T22:05:18.368846",
     "exception": false,
     "start_time": "2021-07-02T22:05:17.184429",
     "status": "completed"
    },
    "tags": []
   },
   "outputs": [
    {
     "data": {
      "text/plain": [
       "Text(0.5, 0, '# of Occurances')"
      ]
     },
     "execution_count": 41,
     "metadata": {},
     "output_type": "execute_result"
    },
    {
     "data": {
      "image/png": "[encoded data removed]",
      "text/plain": [
       "<Figure size 864x576 with 1 Axes>"
      ]
     },
     "metadata": {
      "needs_background": "light"
     },
     "output_type": "display_data"
    }
   ],
   "source": [
    "unigrams_neuseries =(pd.Series(nltk.ngrams(neuwords, 1)).value_counts())[:30]\n",
    "unigrams_neuseries.sort_values().plot.barh(color='blue', width=.9, figsize=(12, 8))\n",
    "plt.title('30 Most Frequently Occuring unigrams')\n",
    "plt.ylabel('unigram')\n",
    "plt.xlabel('# of Occurances')"
   ]
  },
  {
   "cell_type": "code",
   "execution_count": 42,
   "id": "russian-wrong",
   "metadata": {
    "execution": {
     "iopub.execute_input": "2021-07-02T22:05:18.550683Z",
     "iopub.status.busy": "2021-07-02T22:05:18.545200Z",
     "iopub.status.idle": "2021-07-02T22:05:20.038988Z",
     "shell.execute_reply": "2021-07-02T22:05:20.039492Z",
     "shell.execute_reply.started": "2021-07-02T21:22:52.149919Z"
    },
    "papermill": {
     "duration": 1.594224,
     "end_time": "2021-07-02T22:05:20.039661",
     "exception": false,
     "start_time": "2021-07-02T22:05:18.445437",
     "status": "completed"
    },
    "tags": []
   },
   "outputs": [
    {
     "data": {
      "text/plain": [
       "Text(0.5, 0, '# of Occurances')"
      ]
     },
     "execution_count": 42,
     "metadata": {},
     "output_type": "execute_result"
    },
    {
     "data": {
      "image/png": "[encoded data removed]",
      "text/plain": [
       "<Figure size 864x576 with 1 Axes>"
      ]
     },
     "metadata": {
      "needs_background": "light"
     },
     "output_type": "display_data"
    }
   ],
   "source": [
    "bigrams_neuseries =(pd.Series(nltk.ngrams(neuwords, 2)).value_counts())[:30]\n",
    "bigrams_neuseries.sort_values().plot.barh(color='blue', width=.9, figsize=(12, 8))\n",
    "plt.title('30 Most Frequently Occuring Bigrams')\n",
    "plt.ylabel('Bigram')\n",
    "plt.xlabel('# of Occurances')"
   ]
  },
  {
   "cell_type": "code",
   "execution_count": 43,
   "id": "chief-judgment",
   "metadata": {
    "execution": {
     "iopub.execute_input": "2021-07-02T22:05:20.231695Z",
     "iopub.status.busy": "2021-07-02T22:05:20.216104Z",
     "iopub.status.idle": "2021-07-02T22:05:21.862050Z",
     "shell.execute_reply": "2021-07-02T22:05:21.861507Z",
     "shell.execute_reply.started": "2021-07-02T21:22:53.754277Z"
    },
    "papermill": {
     "duration": 1.742958,
     "end_time": "2021-07-02T22:05:21.862187",
     "exception": false,
     "start_time": "2021-07-02T22:05:20.119229",
     "status": "completed"
    },
    "tags": []
   },
   "outputs": [
    {
     "data": {
      "text/plain": [
       "Text(0.5, 0, '# of Occurances')"
      ]
     },
     "execution_count": 43,
     "metadata": {},
     "output_type": "execute_result"
    },
    {
     "data": {
      "image/png": "[encoded data removed]",
      "text/plain": [
       "<Figure size 864x576 with 1 Axes>"
      ]
     },
     "metadata": {
      "needs_background": "light"
     },
     "output_type": "display_data"
    }
   ],
   "source": [
    "trigrams_neuseries =(pd.Series(nltk.ngrams(neuwords, 3)).value_counts())[:30]\n",
    "trigrams_neuseries.sort_values().plot.barh(color='blue', width=.9, figsize=(12, 8))\n",
    "plt.title('30 Most Frequently Occuring trigrams')\n",
    "plt.ylabel('trigram')\n",
    "plt.xlabel('# of Occurances')"
   ]
  },
  {
   "cell_type": "code",
   "execution_count": 44,
   "id": "endless-surfing",
   "metadata": {
    "execution": {
     "iopub.execute_input": "2021-07-02T22:05:22.027857Z",
     "iopub.status.busy": "2021-07-02T22:05:22.026940Z",
     "iopub.status.idle": "2021-07-02T22:05:22.315960Z",
     "shell.execute_reply": "2021-07-02T22:05:22.315230Z",
     "shell.execute_reply.started": "2021-07-02T21:22:55.453559Z"
    },
    "papermill": {
     "duration": 0.373985,
     "end_time": "2021-07-02T22:05:22.316103",
     "exception": false,
     "start_time": "2021-07-02T22:05:21.942118",
     "status": "completed"
    },
    "tags": []
   },
   "outputs": [],
   "source": [
    "import scattertext as st"
   ]
  },
  {
   "cell_type": "code",
   "execution_count": 45,
   "id": "cleared-emphasis",
   "metadata": {
    "execution": {
     "iopub.execute_input": "2021-07-02T22:05:22.497015Z",
     "iopub.status.busy": "2021-07-02T22:05:22.496213Z",
     "iopub.status.idle": "2021-07-02T22:05:22.500057Z",
     "shell.execute_reply": "2021-07-02T22:05:22.499433Z",
     "shell.execute_reply.started": "2021-07-02T21:22:55.747769Z"
    },
    "papermill": {
     "duration": 0.103682,
     "end_time": "2021-07-02T22:05:22.500200",
     "exception": false,
     "start_time": "2021-07-02T22:05:22.396518",
     "status": "completed"
    },
    "tags": []
   },
   "outputs": [
    {
     "data": {
      "text/html": [
       "<div>\n",
       "<style scoped>\n",
       "    .dataframe tbody tr th:only-of-type {\n",
       "        vertical-align: middle;\n",
       "    }\n",
       "\n",
       "    .dataframe tbody tr th {\n",
       "        vertical-align: top;\n",
       "    }\n",
       "\n",
       "    .dataframe thead th {\n",
       "        text-align: right;\n",
       "    }\n",
       "</style>\n",
       "<table border=\"1\" class=\"dataframe\">\n",
       "  <thead>\n",
       "    <tr style=\"text-align: right;\">\n",
       "      <th></th>\n",
       "      <th>id</th>\n",
       "      <th>user_name</th>\n",
       "      <th>user_location</th>\n",
       "      <th>user_description</th>\n",
       "      <th>user_created</th>\n",
       "      <th>user_followers</th>\n",
       "      <th>user_friends</th>\n",
       "      <th>user_favourites</th>\n",
       "      <th>user_verified</th>\n",
       "      <th>date</th>\n",
       "      <th>text</th>\n",
       "      <th>hashtags</th>\n",
       "      <th>source</th>\n",
       "      <th>retweets</th>\n",
       "      <th>favorites</th>\n",
       "      <th>is_retweet</th>\n",
       "      <th>sentiment</th>\n",
       "    </tr>\n",
       "  </thead>\n",
       "  <tbody>\n",
       "    <tr>\n",
       "      <th>0</th>\n",
       "      <td>1340539111971516416</td>\n",
       "      <td>Rachel Roh</td>\n",
       "      <td>La Crescenta-Montrose, CA</td>\n",
       "      <td>Aggregator of Asian American news; scanning di...</td>\n",
       "      <td>2009-04-08 17:52:46</td>\n",
       "      <td>405</td>\n",
       "      <td>1692</td>\n",
       "      <td>3247</td>\n",
       "      <td>False</td>\n",
       "      <td>2020-12-20 06:06:44</td>\n",
       "      <td>same folks said daikon paste could treat a cyt...</td>\n",
       "      <td>['PfizerBioNTech']</td>\n",
       "      <td>Twitter for Android</td>\n",
       "      <td>0</td>\n",
       "      <td>0</td>\n",
       "      <td>False</td>\n",
       "      <td>Positive</td>\n",
       "    </tr>\n",
       "    <tr>\n",
       "      <th>1</th>\n",
       "      <td>1338158543359250433</td>\n",
       "      <td>Albert Fong</td>\n",
       "      <td>San Francisco, CA</td>\n",
       "      <td>Marketing dude, tech geek, heavy metal &amp; '80s ...</td>\n",
       "      <td>2009-09-21 15:27:30</td>\n",
       "      <td>834</td>\n",
       "      <td>666</td>\n",
       "      <td>178</td>\n",
       "      <td>False</td>\n",
       "      <td>2020-12-13 16:27:13</td>\n",
       "      <td>while the world has been on the wrong side of ...</td>\n",
       "      <td>NaN</td>\n",
       "      <td>Twitter Web App</td>\n",
       "      <td>1</td>\n",
       "      <td>1</td>\n",
       "      <td>False</td>\n",
       "      <td>Negative</td>\n",
       "    </tr>\n",
       "    <tr>\n",
       "      <th>2</th>\n",
       "      <td>1337858199140118533</td>\n",
       "      <td>eli🇱🇹🇪🇺👌</td>\n",
       "      <td>Your Bed</td>\n",
       "      <td>heil, hydra 🖐☺</td>\n",
       "      <td>2020-06-25 23:30:28</td>\n",
       "      <td>10</td>\n",
       "      <td>88</td>\n",
       "      <td>155</td>\n",
       "      <td>False</td>\n",
       "      <td>2020-12-12 20:33:45</td>\n",
       "      <td>coronavirus sputnikv astrazeneca pfizerbiontec...</td>\n",
       "      <td>['coronavirus', 'SputnikV', 'AstraZeneca', 'Pf...</td>\n",
       "      <td>Twitter for Android</td>\n",
       "      <td>0</td>\n",
       "      <td>0</td>\n",
       "      <td>False</td>\n",
       "      <td>Positive</td>\n",
       "    </tr>\n",
       "    <tr>\n",
       "      <th>3</th>\n",
       "      <td>1337855739918835717</td>\n",
       "      <td>Charles Adler</td>\n",
       "      <td>Vancouver, BC - Canada</td>\n",
       "      <td>Hosting \"CharlesAdlerTonight\" Global News Radi...</td>\n",
       "      <td>2008-09-10 11:28:53</td>\n",
       "      <td>49165</td>\n",
       "      <td>3933</td>\n",
       "      <td>21853</td>\n",
       "      <td>True</td>\n",
       "      <td>2020-12-12 20:23:59</td>\n",
       "      <td>facts are immutable senator even when youre no...</td>\n",
       "      <td>NaN</td>\n",
       "      <td>Twitter Web App</td>\n",
       "      <td>446</td>\n",
       "      <td>2129</td>\n",
       "      <td>False</td>\n",
       "      <td>Neutral</td>\n",
       "    </tr>\n",
       "    <tr>\n",
       "      <th>4</th>\n",
       "      <td>1337854064604966912</td>\n",
       "      <td>Citizen News Channel</td>\n",
       "      <td>NaN</td>\n",
       "      <td>Citizen News Channel bringing you an alternati...</td>\n",
       "      <td>2020-04-23 17:58:42</td>\n",
       "      <td>152</td>\n",
       "      <td>580</td>\n",
       "      <td>1473</td>\n",
       "      <td>False</td>\n",
       "      <td>2020-12-12 20:17:19</td>\n",
       "      <td>explain to me again why we need a vaccine bori...</td>\n",
       "      <td>['whereareallthesickpeople', 'PfizerBioNTech']</td>\n",
       "      <td>Twitter for iPhone</td>\n",
       "      <td>0</td>\n",
       "      <td>0</td>\n",
       "      <td>False</td>\n",
       "      <td>Neutral</td>\n",
       "    </tr>\n",
       "  </tbody>\n",
       "</table>\n",
       "</div>"
      ],
      "text/plain": [
       "                    id             user_name              user_location  \\\n",
       "0  1340539111971516416            Rachel Roh  La Crescenta-Montrose, CA   \n",
       "1  1338158543359250433           Albert Fong          San Francisco, CA   \n",
       "2  1337858199140118533              eli🇱🇹🇪🇺👌                   Your Bed   \n",
       "3  1337855739918835717         Charles Adler     Vancouver, BC - Canada   \n",
       "4  1337854064604966912  Citizen News Channel                        NaN   \n",
       "\n",
       "                                    user_description         user_created  \\\n",
       "0  Aggregator of Asian American news; scanning di...  2009-04-08 17:52:46   \n",
       "1  Marketing dude, tech geek, heavy metal & '80s ...  2009-09-21 15:27:30   \n",
       "2                                     heil, hydra 🖐☺  2020-06-25 23:30:28   \n",
       "3  Hosting \"CharlesAdlerTonight\" Global News Radi...  2008-09-10 11:28:53   \n",
       "4  Citizen News Channel bringing you an alternati...  2020-04-23 17:58:42   \n",
       "\n",
       "   user_followers  user_friends  user_favourites  user_verified  \\\n",
       "0             405          1692             3247          False   \n",
       "1             834           666              178          False   \n",
       "2              10            88              155          False   \n",
       "3           49165          3933            21853           True   \n",
       "4             152           580             1473          False   \n",
       "\n",
       "                  date                                               text  \\\n",
       "0  2020-12-20 06:06:44  same folks said daikon paste could treat a cyt...   \n",
       "1  2020-12-13 16:27:13  while the world has been on the wrong side of ...   \n",
       "2  2020-12-12 20:33:45  coronavirus sputnikv astrazeneca pfizerbiontec...   \n",
       "3  2020-12-12 20:23:59  facts are immutable senator even when youre no...   \n",
       "4  2020-12-12 20:17:19  explain to me again why we need a vaccine bori...   \n",
       "\n",
       "                                            hashtags               source  \\\n",
       "0                                 ['PfizerBioNTech']  Twitter for Android   \n",
       "1                                                NaN      Twitter Web App   \n",
       "2  ['coronavirus', 'SputnikV', 'AstraZeneca', 'Pf...  Twitter for Android   \n",
       "3                                                NaN      Twitter Web App   \n",
       "4     ['whereareallthesickpeople', 'PfizerBioNTech']   Twitter for iPhone   \n",
       "\n",
       "   retweets  favorites  is_retweet sentiment  \n",
       "0         0          0       False  Positive  \n",
       "1         1          1       False  Negative  \n",
       "2         0          0       False  Positive  \n",
       "3       446       2129       False   Neutral  \n",
       "4         0          0       False   Neutral  "
      ]
     },
     "execution_count": 45,
     "metadata": {},
     "output_type": "execute_result"
    }
   ],
   "source": [
    "data.head()"
   ]
  },
  {
   "cell_type": "code",
   "execution_count": 46,
   "id": "cordless-jamaica",
   "metadata": {
    "execution": {
     "iopub.execute_input": "2021-07-02T22:05:22.667686Z",
     "iopub.status.busy": "2021-07-02T22:05:22.667033Z",
     "iopub.status.idle": "2021-07-02T22:05:22.670097Z",
     "shell.execute_reply": "2021-07-02T22:05:22.669626Z",
     "shell.execute_reply.started": "2021-07-02T21:22:55.771098Z"
    },
    "papermill": {
     "duration": 0.087954,
     "end_time": "2021-07-02T22:05:22.670240",
     "exception": false,
     "start_time": "2021-07-02T22:05:22.582286",
     "status": "completed"
    },
    "tags": []
   },
   "outputs": [],
   "source": [
    "data1=pd.DataFrame()\n",
    "from IPython.display import IFrame\n"
   ]
  },
  {
   "cell_type": "code",
   "execution_count": 47,
   "id": "comparative-lease",
   "metadata": {
    "execution": {
     "iopub.execute_input": "2021-07-02T22:05:22.838948Z",
     "iopub.status.busy": "2021-07-02T22:05:22.838200Z",
     "iopub.status.idle": "2021-07-02T22:06:49.185290Z",
     "shell.execute_reply": "2021-07-02T22:06:49.184509Z",
     "shell.execute_reply.started": "2021-07-02T21:22:55.782716Z"
    },
    "papermill": {
     "duration": 86.435005,
     "end_time": "2021-07-02T22:06:49.185452",
     "exception": false,
     "start_time": "2021-07-02T22:05:22.750447",
     "status": "completed"
    },
    "tags": []
   },
   "outputs": [],
   "source": [
    "data1=data.copy()\n",
    "\n",
    "data1['binary_sentiment'] = data1['sentiment'].apply(lambda x: x if x ==\"Negative\" else \"non-negative\")\n",
    "data1['date'] = data1['date'].apply(str)\n",
    "\n",
    "data = data1.assign(\n",
    "    parse=lambda data: data.text.apply(st.whitespace_nlp_with_sentences)\n",
    ")\n",
    "\n",
    "corpus = st.CorpusFromParsedDocuments(\n",
    "    data, category_col='binary_sentiment', parsed_col='parse'\n",
    ").build().get_unigram_corpus().compact(st.AssociationCompactor(2000))\n",
    "\n",
    "html = st.produce_scattertext_explorer(\n",
    "    corpus,\n",
    "    category='Negative', category_name='Negative', not_category_name='Neutral/Positive',\n",
    "    minimum_term_frequency=0, pmi_threshold_coefficient=0,\n",
    "    width_in_pixels=1000, metadata=corpus.get_df()['date'],\n",
    "    transform=st.Scalers.dense_rank\n",
    "    \n",
    ")\n",
    "\n"
   ]
  },
  {
   "cell_type": "code",
   "execution_count": 48,
   "id": "destroyed-latter",
   "metadata": {
    "execution": {
     "iopub.execute_input": "2021-07-02T22:06:49.380847Z",
     "iopub.status.busy": "2021-07-02T22:06:49.380178Z",
     "iopub.status.idle": "2021-07-02T22:06:49.398644Z",
     "shell.execute_reply": "2021-07-02T22:06:49.398114Z",
     "shell.execute_reply.started": "2021-07-02T21:24:26.536364Z"
    },
    "papermill": {
     "duration": 0.131018,
     "end_time": "2021-07-02T22:06:49.398787",
     "exception": false,
     "start_time": "2021-07-02T22:06:49.267769",
     "status": "completed"
    },
    "tags": []
   },
   "outputs": [
    {
     "data": {
      "text/html": [
       "\n",
       "        <iframe\n",
       "            width=\"1200\"\n",
       "            height=\"700\"\n",
       "            src=\"./demo_compact.html\"\n",
       "            frameborder=\"0\"\n",
       "            allowfullscreen\n",
       "        ></iframe>\n",
       "        "
      ],
      "text/plain": [
       "<IPython.lib.display.IFrame at 0x7f4205b0cdd0>"
      ]
     },
     "execution_count": 48,
     "metadata": {},
     "output_type": "execute_result"
    }
   ],
   "source": [
    "open('./demo_compact.html', 'w').write(html)\n",
    "IFrame(src='./demo_compact.html', width=1200, height=700)"
   ]
  },
  {
   "cell_type": "code",
   "execution_count": 49,
   "id": "extra-accountability",
   "metadata": {
    "execution": {
     "iopub.execute_input": "2021-07-02T22:06:49.598952Z",
     "iopub.status.busy": "2021-07-02T22:06:49.577984Z",
     "iopub.status.idle": "2021-07-02T22:06:50.591915Z",
     "shell.execute_reply": "2021-07-02T22:06:50.591336Z",
     "shell.execute_reply.started": "2021-07-02T21:25:33.413466Z"
    },
    "papermill": {
     "duration": 1.112485,
     "end_time": "2021-07-02T22:06:50.592059",
     "exception": false,
     "start_time": "2021-07-02T22:06:49.479574",
     "status": "completed"
    },
    "tags": []
   },
   "outputs": [],
   "source": [
    "docs=Positive_tweet['text'].tolist()\n",
    "cv=CountVectorizer(max_df=0.85,stop_words='english',max_features=20000)\n",
    "word_count_vector=cv.fit_transform(docs)"
   ]
  },
  {
   "cell_type": "code",
   "execution_count": 50,
   "id": "historic-latin",
   "metadata": {
    "execution": {
     "iopub.execute_input": "2021-07-02T22:06:50.760366Z",
     "iopub.status.busy": "2021-07-02T22:06:50.759663Z",
     "iopub.status.idle": "2021-07-02T22:06:50.763477Z",
     "shell.execute_reply": "2021-07-02T22:06:50.762846Z",
     "shell.execute_reply.started": "2021-07-02T21:25:43.906186Z"
    },
    "papermill": {
     "duration": 0.089812,
     "end_time": "2021-07-02T22:06:50.763613",
     "exception": false,
     "start_time": "2021-07-02T22:06:50.673801",
     "status": "completed"
    },
    "tags": []
   },
   "outputs": [
    {
     "data": {
      "text/plain": [
       "<42186x20000 sparse matrix of type '<class 'numpy.int64'>'\n",
       "\twith 366145 stored elements in Compressed Sparse Row format>"
      ]
     },
     "execution_count": 50,
     "metadata": {},
     "output_type": "execute_result"
    }
   ],
   "source": [
    "word_count_vector"
   ]
  },
  {
   "cell_type": "code",
   "execution_count": 51,
   "id": "bridal-bangladesh",
   "metadata": {
    "execution": {
     "iopub.execute_input": "2021-07-02T22:06:50.930346Z",
     "iopub.status.busy": "2021-07-02T22:06:50.929724Z",
     "iopub.status.idle": "2021-07-02T22:06:50.937373Z",
     "shell.execute_reply": "2021-07-02T22:06:50.937885Z",
     "shell.execute_reply.started": "2021-07-02T21:25:43.920524Z"
    },
    "jupyter": {
     "source_hidden": true
    },
    "papermill": {
     "duration": 0.093434,
     "end_time": "2021-07-02T22:06:50.938048",
     "exception": false,
     "start_time": "2021-07-02T22:06:50.844614",
     "status": "completed"
    },
    "tags": []
   },
   "outputs": [
    {
     "data": {
      "text/plain": [
       "['folks',\n",
       " 'said',\n",
       " 'paste',\n",
       " 'treat',\n",
       " 'cytokine',\n",
       " 'storm',\n",
       " 'pfizerbiontech',\n",
       " 'coronavirus',\n",
       " 'sputnikv',\n",
       " 'astrazeneca']"
      ]
     },
     "execution_count": 51,
     "metadata": {},
     "output_type": "execute_result"
    }
   ],
   "source": [
    "list(cv.vocabulary_.keys())[:10]"
   ]
  },
  {
   "cell_type": "code",
   "execution_count": 52,
   "id": "comparable-visiting",
   "metadata": {
    "execution": {
     "iopub.execute_input": "2021-07-02T22:06:51.106954Z",
     "iopub.status.busy": "2021-07-02T22:06:51.106234Z",
     "iopub.status.idle": "2021-07-02T22:06:51.113434Z",
     "shell.execute_reply": "2021-07-02T22:06:51.113876Z",
     "shell.execute_reply.started": "2021-07-02T21:25:43.937502Z"
    },
    "jupyter": {
     "source_hidden": true
    },
    "papermill": {
     "duration": 0.09395,
     "end_time": "2021-07-02T22:06:51.114044",
     "exception": false,
     "start_time": "2021-07-02T22:06:51.020094",
     "status": "completed"
    },
    "tags": []
   },
   "outputs": [
    {
     "data": {
      "text/plain": [
       "TfidfTransformer()"
      ]
     },
     "execution_count": 52,
     "metadata": {},
     "output_type": "execute_result"
    }
   ],
   "source": [
    "\n",
    "from sklearn.feature_extraction.text import TfidfTransformer\n",
    "\n",
    "tfidf_transformer=TfidfTransformer(smooth_idf=True,use_idf=True)\n",
    "tfidf_transformer.fit(word_count_vector)"
   ]
  },
  {
   "cell_type": "markdown",
   "id": "recovered-tiffany",
   "metadata": {
    "papermill": {
     "duration": 0.081124,
     "end_time": "2021-07-02T22:06:51.277687",
     "exception": false,
     "start_time": "2021-07-02T22:06:51.196563",
     "status": "completed"
    },
    "tags": []
   },
   "source": [
    "# ****Features of positive tweets using tf-idf:"
   ]
  },
  {
   "cell_type": "code",
   "execution_count": 53,
   "id": "acoustic-riding",
   "metadata": {
    "execution": {
     "iopub.execute_input": "2021-07-02T22:06:51.498909Z",
     "iopub.status.busy": "2021-07-02T22:06:51.493471Z",
     "iopub.status.idle": "2021-07-02T22:06:53.769784Z",
     "shell.execute_reply": "2021-07-02T22:06:53.769163Z",
     "shell.execute_reply.started": "2021-07-02T21:27:02.519741Z"
    },
    "papermill": {
     "duration": 2.410542,
     "end_time": "2021-07-02T22:06:53.769932",
     "exception": false,
     "start_time": "2021-07-02T22:06:51.359390",
     "status": "completed"
    },
    "tags": []
   },
   "outputs": [
    {
     "name": "stdout",
     "output_type": "stream",
     "text": [
      "\n",
      "===Keywords===\n",
      "welcome 1.0\n",
      "sputnikv 1.0\n",
      "oxfordastrazeneca 1.0\n",
      "moderna 1.0\n",
      "covaxin 1.0\n",
      "woot 0.965\n",
      "cool 0.986\n",
      "bomb 0.974\n",
      "shefvaidya 0.968\n",
      "fdacber 0.968\n",
      "youre 0.968\n",
      "shots 0.942\n",
      "invincible 0.965\n",
      "harmless 0.965\n",
      "assist 0.965\n",
      "rescue 0.963\n",
      "smiling 0.957\n",
      "celebrating 0.955\n",
      "woohoo 0.951\n",
      "trustable 0.95\n",
      "remarkable 0.95\n",
      "yay 0.947\n",
      "okay 0.945\n",
      "progress 0.945\n",
      "xxx 0.945\n",
      "hurrah 0.944\n",
      "peppe 0.944\n",
      "yeah 0.944\n",
      "joke 0.941\n",
      "lol 0.94\n"
     ]
    }
   ],
   "source": [
    "\n",
    "\n",
    "def sort_coo(coo_matrix):\n",
    "    tuples = zip(coo_matrix.col, coo_matrix.data)\n",
    "    return sorted(tuples, key=lambda x: (x[1], x[0]), reverse=True)\n",
    "\n",
    "def extract_topn_from_vector(feature_names, sorted_items, topn=32):\n",
    "    \"\"\"get the feature names and tf-idf score of top n items\"\"\"\n",
    "    \n",
    "    #use only topn items from vector\n",
    "    sorted_items = sorted_items[:topn]\n",
    "\n",
    "    score_vals = []\n",
    "    feature_vals = []\n",
    "    \n",
    "    # word index and corresponding tf-idf score\n",
    "    for idx, score in sorted_items:\n",
    "        \n",
    "        #keep track of feature name and its corresponding score\n",
    "        score_vals.append(round(score, 3))\n",
    "        feature_vals.append(feature_names[idx])\n",
    "\n",
    "    #create a tuples of feature,score\n",
    "    #results = zip(feature_vals,score_vals)\n",
    "    results= {}\n",
    "    for idx in range(len(feature_vals)):\n",
    "        results[feature_vals[idx]]=score_vals[idx]\n",
    "    \n",
    "    return results\n",
    "\n",
    "\n",
    "feature_names=cv.get_feature_names()\n",
    "\n",
    "\n",
    "#generate tf-idf for the given document\n",
    "tf_idf_vector=tfidf_transformer.transform(cv.transform(docs))\n",
    "\n",
    "#sort the tf-idf vectors by descending order of scores\n",
    "sorted_items=sort_coo(tf_idf_vector.tocoo())\n",
    "\n",
    "#extract only the top n; n here is 32\n",
    "keywords=extract_topn_from_vector(feature_names,sorted_items,32)\n",
    "\n",
    "\n",
    "print(\"\\n===Keywords===\")\n",
    "for k in keywords:\n",
    "    print(k,keywords[k])\n"
   ]
  },
  {
   "cell_type": "code",
   "execution_count": 54,
   "id": "documented-greeting",
   "metadata": {
    "execution": {
     "iopub.execute_input": "2021-07-02T22:06:53.943655Z",
     "iopub.status.busy": "2021-07-02T22:06:53.942997Z",
     "iopub.status.idle": "2021-07-02T22:06:53.946171Z",
     "shell.execute_reply": "2021-07-02T22:06:53.945558Z",
     "shell.execute_reply.started": "2021-07-02T21:27:07.363031Z"
    },
    "papermill": {
     "duration": 0.092516,
     "end_time": "2021-07-02T22:06:53.946323",
     "exception": false,
     "start_time": "2021-07-02T22:06:53.853807",
     "status": "completed"
    },
    "tags": []
   },
   "outputs": [],
   "source": [
    "ndocs=Negative_tweet['text'].tolist()\n",
    "neudocs=Neutral_tweet['text'].tolist()"
   ]
  },
  {
   "cell_type": "code",
   "execution_count": 55,
   "id": "weighted-frederick",
   "metadata": {
    "execution": {
     "iopub.execute_input": "2021-07-02T22:06:54.157221Z",
     "iopub.status.busy": "2021-07-02T22:06:54.152233Z",
     "iopub.status.idle": "2021-07-02T22:06:55.421349Z",
     "shell.execute_reply": "2021-07-02T22:06:55.420639Z",
     "shell.execute_reply.started": "2021-07-02T21:27:07.407186Z"
    },
    "papermill": {
     "duration": 1.391075,
     "end_time": "2021-07-02T22:06:55.421494",
     "exception": false,
     "start_time": "2021-07-02T22:06:54.030419",
     "status": "completed"
    },
    "tags": []
   },
   "outputs": [],
   "source": [
    "word_count_vector_neu=cv.fit_transform(neudocs)"
   ]
  },
  {
   "cell_type": "code",
   "execution_count": 56,
   "id": "electronic-literature",
   "metadata": {
    "execution": {
     "iopub.execute_input": "2021-07-02T22:06:55.595385Z",
     "iopub.status.busy": "2021-07-02T22:06:55.594535Z",
     "iopub.status.idle": "2021-07-02T22:06:55.597871Z",
     "shell.execute_reply": "2021-07-02T22:06:55.598364Z",
     "shell.execute_reply.started": "2021-07-02T21:27:22.725702Z"
    },
    "jupyter": {
     "source_hidden": true
    },
    "papermill": {
     "duration": 0.094079,
     "end_time": "2021-07-02T22:06:55.598529",
     "exception": false,
     "start_time": "2021-07-02T22:06:55.504450",
     "status": "completed"
    },
    "tags": []
   },
   "outputs": [
    {
     "data": {
      "text/plain": [
       "<62042x20000 sparse matrix of type '<class 'numpy.int64'>'\n",
       "\twith 472850 stored elements in Compressed Sparse Row format>"
      ]
     },
     "execution_count": 56,
     "metadata": {},
     "output_type": "execute_result"
    }
   ],
   "source": [
    "\n",
    "word_count_vector_neu"
   ]
  },
  {
   "cell_type": "code",
   "execution_count": 57,
   "id": "delayed-superintendent",
   "metadata": {
    "execution": {
     "iopub.execute_input": "2021-07-02T22:06:55.771309Z",
     "iopub.status.busy": "2021-07-02T22:06:55.770415Z",
     "iopub.status.idle": "2021-07-02T22:06:55.774461Z",
     "shell.execute_reply": "2021-07-02T22:06:55.774898Z",
     "shell.execute_reply.started": "2021-07-02T21:27:22.742507Z"
    },
    "jupyter": {
     "source_hidden": true
    },
    "papermill": {
     "duration": 0.093182,
     "end_time": "2021-07-02T22:06:55.775068",
     "exception": false,
     "start_time": "2021-07-02T22:06:55.681886",
     "status": "completed"
    },
    "tags": []
   },
   "outputs": [
    {
     "data": {
      "text/plain": [
       "['facts',\n",
       " 'senator',\n",
       " 'youre',\n",
       " 'ethically',\n",
       " 'acknowledge',\n",
       " 'born',\n",
       " 'explain',\n",
       " 'need',\n",
       " 'vaccine',\n",
       " 'borisjohnson']"
      ]
     },
     "execution_count": 57,
     "metadata": {},
     "output_type": "execute_result"
    }
   ],
   "source": [
    "list(cv.vocabulary_.keys())[:10]"
   ]
  },
  {
   "cell_type": "code",
   "execution_count": 58,
   "id": "developing-combination",
   "metadata": {
    "execution": {
     "iopub.execute_input": "2021-07-02T22:06:55.946940Z",
     "iopub.status.busy": "2021-07-02T22:06:55.945875Z",
     "iopub.status.idle": "2021-07-02T22:06:55.953749Z",
     "shell.execute_reply": "2021-07-02T22:06:55.953118Z",
     "shell.execute_reply.started": "2021-07-02T21:27:22.761930Z"
    },
    "jupyter": {
     "source_hidden": true
    },
    "papermill": {
     "duration": 0.095578,
     "end_time": "2021-07-02T22:06:55.953889",
     "exception": false,
     "start_time": "2021-07-02T22:06:55.858311",
     "status": "completed"
    },
    "tags": []
   },
   "outputs": [
    {
     "data": {
      "text/plain": [
       "TfidfTransformer()"
      ]
     },
     "execution_count": 58,
     "metadata": {},
     "output_type": "execute_result"
    }
   ],
   "source": [
    "tfidf_transformer.fit(word_count_vector_neu)"
   ]
  },
  {
   "cell_type": "markdown",
   "id": "efficient-kidney",
   "metadata": {
    "papermill": {
     "duration": 0.082935,
     "end_time": "2021-07-02T22:06:56.121803",
     "exception": false,
     "start_time": "2021-07-02T22:06:56.038868",
     "status": "completed"
    },
    "tags": []
   },
   "source": [
    "# ****Features of neutral tweets using tf-idf:"
   ]
  },
  {
   "cell_type": "code",
   "execution_count": 59,
   "id": "palestinian-rapid",
   "metadata": {
    "execution": {
     "iopub.execute_input": "2021-07-02T22:06:56.321822Z",
     "iopub.status.busy": "2021-07-02T22:06:56.298025Z",
     "iopub.status.idle": "2021-07-02T22:06:59.459545Z",
     "shell.execute_reply": "2021-07-02T22:06:59.460143Z",
     "shell.execute_reply.started": "2021-07-02T21:27:22.779662Z"
    },
    "jupyter": {
     "source_hidden": true
    },
    "papermill": {
     "duration": 3.254688,
     "end_time": "2021-07-02T22:06:59.460398",
     "exception": false,
     "start_time": "2021-07-02T22:06:56.205710",
     "status": "completed"
    },
    "tags": []
   },
   "outputs": [
    {
     "name": "stdout",
     "output_type": "stream",
     "text": [
      "\n",
      "===Keywords===\n",
      "woke 1.0\n",
      "vizhpuneet 1.0\n",
      "viphelicopter 1.0\n",
      "victorblackwell 1.0\n",
      "vacinnatedpfizerbiontech 1.0\n",
      "vaccine 1.0\n",
      "usargb 1.0\n",
      "twitter 1.0\n",
      "time 1.0\n",
      "thing 1.0\n",
      "sputnikv 1.0\n"
     ]
    }
   ],
   "source": [
    "feature_names=cv.get_feature_names()\n",
    "\n",
    "\n",
    "\n",
    "\n",
    "#generate tf-idf for the given document\n",
    "tf_idf_vector=tfidf_transformer.transform(cv.transform(neudocs))\n",
    "\n",
    "#sort the tf-idf vectors by descending order of scores\n",
    "sorted_items=sort_coo(tf_idf_vector.tocoo())\n",
    "\n",
    "#extract only the top n; n here is 32\n",
    "keywords=extract_topn_from_vector(feature_names,sorted_items,32)\n",
    "\n",
    "\n",
    "print(\"\\n===Keywords===\")\n",
    "for k in keywords:\n",
    "    print(k,keywords[k])\n",
    "\n",
    "\n",
    "def sort_coo(coo_matrix):\n",
    "    tuples = zip(coo_matrix.col, coo_matrix.data)\n",
    "    return sorted(tuples, key=lambda x: (x[1], x[0]), reverse=True)\n",
    "\n",
    "def extract_topn_from_vector(feature_names, sorted_items, topn=32):\n",
    "    \"\"\"get the feature names and tf-idf score of top n items\"\"\"\n",
    "    \n",
    "    #use only topn items from vector\n",
    "    sorted_items = sorted_items[:topn]\n",
    "\n",
    "    score_vals = []\n",
    "    feature_vals = []\n",
    "    \n",
    "    # word index and corresponding tf-idf score\n",
    "    for idx, score in sorted_items:\n",
    "        \n",
    "        #keep track of feature name and its corresponding score\n",
    "        score_vals.append(round(score, 3))\n",
    "        feature_vals.append(feature_names[idx])\n",
    "\n",
    "    #create a tuples of feature,score\n",
    "    #results = zip(feature_vals,score_vals)\n",
    "    results= {}\n",
    "    for idx in range(len(feature_vals)):\n",
    "        results[feature_vals[idx]]=score_vals[idx]\n",
    "    \n",
    "    return results"
   ]
  },
  {
   "cell_type": "code",
   "execution_count": 60,
   "id": "catholic-knowing",
   "metadata": {
    "execution": {
     "iopub.execute_input": "2021-07-02T22:06:59.702268Z",
     "iopub.status.busy": "2021-07-02T22:06:59.666386Z",
     "iopub.status.idle": "2021-07-02T22:07:00.175854Z",
     "shell.execute_reply": "2021-07-02T22:07:00.176352Z",
     "shell.execute_reply.started": "2021-07-02T21:27:26.270161Z"
    },
    "jupyter": {
     "source_hidden": true
    },
    "papermill": {
     "duration": 0.632724,
     "end_time": "2021-07-02T22:07:00.176523",
     "exception": false,
     "start_time": "2021-07-02T22:06:59.543799",
     "status": "completed"
    },
    "tags": []
   },
   "outputs": [
    {
     "data": {
      "text/plain": [
       "['world',\n",
       " 'wrong',\n",
       " 'history',\n",
       " 'year',\n",
       " 'hopefully',\n",
       " 'biggest',\n",
       " 'vaccination',\n",
       " 'effort',\n",
       " 'weve',\n",
       " 'ev']"
      ]
     },
     "execution_count": 60,
     "metadata": {},
     "output_type": "execute_result"
    }
   ],
   "source": [
    "word_count_vector_n=cv.fit_transform(ndocs)\n",
    "list(cv.vocabulary_.keys())[:10]"
   ]
  },
  {
   "cell_type": "code",
   "execution_count": 61,
   "id": "hazardous-triangle",
   "metadata": {
    "execution": {
     "iopub.execute_input": "2021-07-02T22:07:00.348717Z",
     "iopub.status.busy": "2021-07-02T22:07:00.348062Z",
     "iopub.status.idle": "2021-07-02T22:07:00.355037Z",
     "shell.execute_reply": "2021-07-02T22:07:00.354425Z",
     "shell.execute_reply.started": "2021-07-02T21:27:26.844486Z"
    },
    "jupyter": {
     "source_hidden": true
    },
    "papermill": {
     "duration": 0.094869,
     "end_time": "2021-07-02T22:07:00.355173",
     "exception": false,
     "start_time": "2021-07-02T22:07:00.260304",
     "status": "completed"
    },
    "tags": []
   },
   "outputs": [
    {
     "data": {
      "text/plain": [
       "TfidfTransformer()"
      ]
     },
     "execution_count": 61,
     "metadata": {},
     "output_type": "execute_result"
    }
   ],
   "source": [
    "tfidf_transformer.fit(word_count_vector_n)"
   ]
  },
  {
   "cell_type": "markdown",
   "id": "checked-michigan",
   "metadata": {
    "papermill": {
     "duration": 0.084173,
     "end_time": "2021-07-02T22:07:00.523364",
     "exception": false,
     "start_time": "2021-07-02T22:07:00.439191",
     "status": "completed"
    },
    "tags": []
   },
   "source": [
    "# ****Features of negative tweets using tf-idf:"
   ]
  },
  {
   "cell_type": "code",
   "execution_count": 62,
   "id": "native-individual",
   "metadata": {
    "execution": {
     "iopub.execute_input": "2021-07-02T22:07:00.698863Z",
     "iopub.status.busy": "2021-07-02T22:07:00.698188Z",
     "iopub.status.idle": "2021-07-02T22:07:02.170264Z",
     "shell.execute_reply": "2021-07-02T22:07:02.170772Z",
     "shell.execute_reply.started": "2021-07-02T21:27:26.855938Z"
    },
    "jupyter": {
     "source_hidden": true
    },
    "papermill": {
     "duration": 1.560789,
     "end_time": "2021-07-02T22:07:02.170958",
     "exception": false,
     "start_time": "2021-07-02T22:07:00.610169",
     "status": "completed"
    },
    "tags": []
   },
   "outputs": [
    {
     "name": "stdout",
     "output_type": "stream",
     "text": [
      "\n",
      "===Keywords===\n",
      "sputnikv 1.0\n",
      "askanshul 0.968\n",
      "underestimated 0.967\n",
      "dancing 0.966\n",
      "unwanted 0.965\n",
      "gifted 0.964\n",
      "victim 0.951\n",
      "comments 0.951\n",
      "prick 0.827\n",
      "joy 0.944\n",
      "bones 0.936\n",
      "hate 0.936\n",
      "shame 0.881\n",
      "fuck 0.826\n",
      "efficient 0.926\n",
      "tragic 0.924\n",
      "shit 0.924\n",
      "killer 0.916\n",
      "pratidintime 0.916\n",
      "jacindaardern 0.916\n",
      "contentcmd 0.912\n",
      "boycott 0.908\n",
      "bluetooth 0.9\n",
      "year 0.899\n",
      "sideeffects 0.897\n",
      "trust 0.888\n",
      "narratives 0.885\n",
      "envy 0.883\n",
      "thehindu 0.882\n",
      "bicep 0.88\n",
      "help 0.878\n",
      "waste 0.873\n",
      "sticker 0.873\n",
      "failed 0.873\n",
      "stabbed 0.872\n",
      "fucked 0.872\n",
      "human 0.868\n",
      "rs 0.867\n",
      "equals 0.865\n",
      "effects 0.861\n",
      "replies 0.86\n",
      "doubted 0.86\n",
      "shoot 0.857\n",
      "covidiots 0.856\n",
      "stands 0.855\n",
      "stuck 0.854\n",
      "gona 0.853\n",
      "fools 0.851\n",
      "gotten 0.851\n",
      "lancet 0.85\n",
      "pressure 0.85\n",
      "good 0.85\n",
      "poison 0.849\n",
      "hurting 0.846\n",
      "regulators 0.846\n",
      "suck 0.844\n",
      "forbidden 0.844\n",
      "laalejandro 0.843\n",
      "panic 0.843\n",
      "strike 0.841\n",
      "whosearo 0.839\n",
      "gst 0.839\n",
      "safe 0.838\n",
      "vanessabritomia 0.836\n",
      "pricked 0.834\n",
      "ohio 0.834\n",
      "realise 0.833\n",
      "kills 0.832\n",
      "tribes 0.831\n",
      "iankursingh 0.829\n",
      "cpso 0.829\n",
      "micrograms 0.828\n",
      "tika 0.825\n",
      "switzerland 0.825\n",
      "coassassin 0.823\n",
      "miamalan 0.821\n",
      "chinadaily 0.821\n",
      "suspect 0.819\n",
      "cartabellotta 0.819\n",
      "sana 0.818\n",
      "easily 0.817\n",
      "son 0.816\n",
      "bitches 0.815\n",
      "polls 0.815\n",
      "hits 0.814\n",
      "collapsed 0.812\n",
      "loser 0.809\n",
      "stopcovid 0.809\n",
      "dose 0.809\n",
      "phizer 0.807\n",
      "rokfin 0.807\n",
      "kerala 0.806\n",
      "essential 0.803\n"
     ]
    }
   ],
   "source": [
    "feature_names=cv.get_feature_names()\n",
    "\n",
    "\n",
    "\n",
    "\n",
    "#generate tf-idf for the given document\n",
    "tf_idf_vector=tfidf_transformer.transform(cv.transform(ndocs))\n",
    "\n",
    "#sort the tf-idf vectors by descending order of scores\n",
    "sorted_items=sort_coo(tf_idf_vector.tocoo())\n",
    "\n",
    "#extract only the top n; n here is 32\n",
    "keywords=extract_topn_from_vector(feature_names,sorted_items,100)\n",
    "\n",
    "\n",
    "print(\"\\n===Keywords===\")\n",
    "for k in keywords:\n",
    "    print(k,keywords[k])\n",
    "\n",
    "\n",
    "def sort_coo(coo_matrix):\n",
    "    tuples = zip(coo_matrix.col, coo_matrix.data)\n",
    "    return sorted(tuples, key=lambda x: (x[1], x[0]), reverse=True)\n",
    "\n",
    "def extract_topn_from_vector(feature_names, sorted_items, topn=32):\n",
    "    \"\"\"get the feature names and tf-idf score of top n items\"\"\"\n",
    "    \n",
    "    #use only topn items from vector\n",
    "    sorted_items = sorted_items[:topn]\n",
    "\n",
    "    score_vals = []\n",
    "    feature_vals = []\n",
    "    \n",
    "    # word index and corresponding tf-idf score\n",
    "    for idx, score in sorted_items:\n",
    "        \n",
    "        #keep track of feature name and its corresponding score\n",
    "        score_vals.append(round(score, 3))\n",
    "        feature_vals.append(feature_names[idx])\n",
    "\n",
    "    #create a tuples of feature,score\n",
    "    #results = zip(feature_vals,score_vals)\n",
    "    results= {}\n",
    "    for idx in range(len(feature_vals)):\n",
    "        results[feature_vals[idx]]=score_vals[idx]\n",
    "    \n",
    "    return results"
   ]
  }
 ],
 "metadata": {
  "kernelspec": {
   "display_name": "Python 3",
   "language": "python",
   "name": "python3"
  },
  "language_info": {
   "codemirror_mode": {
    "name": "ipython",
    "version": 3
   },
   "file_extension": ".py",
   "mimetype": "text/x-python",
   "name": "python",
   "nbconvert_exporter": "python",
   "pygments_lexer": "ipython3",
   "version": "3.7.10"
  },
  "papermill": {
   "default_parameters": {},
   "duration": 296.340496,
   "end_time": "2021-07-02T22:07:04.864818",
   "environment_variables": {},
   "exception": null,
   "input_path": "__notebook__.ipynb",
   "output_path": "__notebook__.ipynb",
   "parameters": {},
   "start_time": "2021-07-02T22:02:08.524322",
   "version": "2.3.3"
  }
 },
 "nbformat": 4,
 "nbformat_minor": 5
}
